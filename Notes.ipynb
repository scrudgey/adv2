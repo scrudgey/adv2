{
 "cells": [
  {
   "cell_type": "markdown",
   "metadata": {},
   "source": [
    "# TODO\n",
    "\n",
    "Make symbols subscriptable\n",
    "\n",
    "How to use symbols in practice?\n",
    "\n",
    "Don't propagate upwards if our values havent changed\n",
    "\n",
    "Potential issue with prematurely collapsing attributes as I determine if new_value is a subset of self.values\n",
    "\n",
    "Prove mathematical formalism"
   ]
  },
  {
   "cell_type": "code",
   "execution_count": null,
   "metadata": {
    "collapsed": true
   },
   "outputs": [],
   "source": []
  },
  {
   "cell_type": "markdown",
   "metadata": {},
   "source": [
    "---\n",
    "# Notes\n",
    "\n",
    "Object is considered a subset of another if it is the same type or a subclass of the other's type. \n",
    "\n",
    "### Collapse\n",
    "    1. restrict my values to the minimal subset of target values\n",
    "        if I am None, return None\n",
    "    2. for each of my values, for each of shared attributes \n",
    "        restrict(value.attr, target.attr)\n",
    "        if they return None, I return None\n",
    "    2.5. recalculate my attributes\n",
    "    3. adopt all other attributes of the target values\n",
    "    4. if i am the first, collapse upward\n",
    "    \n",
    "### Collapse upward\n",
    "    2. for each of my values, if they have attribute\n",
    "        restrict value attributes to the target attributes.\n",
    "        if they return None, drop this value\n",
    "    if i have lost all of my values, throw exception\n",
    "    if i have a parent, collapse upwards\n",
    "        \n",
    "### Restriction\n",
    "    for every element in me, keep if i am a superset of every element in target.\n",
    "        this ensures that we can take any possible instance of the target and find its \n",
    "        realization in original values\n",
    "        \n",
    "### Subset\n",
    "    I am a subset of the target value if I am the same class or a subclass.\n",
    "    \n",
    "\n",
    "\n",
    "### Consistency condition\n",
    "    new value must always be a strict subset of the existing values:\n",
    "    1. New value implements every attribute of the parent object, at least potentially\n",
    "    2. New value implements every method of the parent object\n",
    "    3. "
   ]
  },
  {
   "cell_type": "code",
   "execution_count": null,
   "metadata": {
    "collapsed": true
   },
   "outputs": [],
   "source": []
  }
 ],
 "metadata": {
  "kernelspec": {
   "display_name": "Python [conda env:py3]",
   "language": "python",
   "name": "conda-env-py3-py"
  },
  "language_info": {
   "codemirror_mode": {
    "name": "ipython",
    "version": 3
   },
   "file_extension": ".py",
   "mimetype": "text/x-python",
   "name": "python",
   "nbconvert_exporter": "python",
   "pygments_lexer": "ipython3",
   "version": "3.6.2"
  }
 },
 "nbformat": 4,
 "nbformat_minor": 1
}
