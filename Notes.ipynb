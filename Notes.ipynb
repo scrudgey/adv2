{
 "cells": [
  {
   "cell_type": "markdown",
   "metadata": {},
   "source": [
    "# Basic algorithm\n",
    "\n",
    "### Collapse\n",
    "    1. restrict my values to the minimal subset of target values\n",
    "        if I am None, return None\n",
    "    2. for each of my values, for each of shared attributes \n",
    "        restrict(value.attr, target.attr)\n",
    "        if they return None, I return None\n",
    "    2.5. recalculate my attributes\n",
    "    3. adopt all other attributes of the target values\n",
    "    4. if i am the first, collapse upward\n",
    "   \n",
    "        \n",
    "### Restriction\n",
    "    for every element in me, keep if i am a superset of every element in target.\n",
    "        this ensures that we can take any possible instance of the target and find its \n",
    "        realization in original values\n",
    "\n",
    "### Collapse upward\n",
    "    2. for each of my values, if they have attribute\n",
    "        restrict value attributes to the target attributes.\n",
    "        if they return None, drop this value\n",
    "    if i have lost all of my values, throw exception\n",
    "    if i have a parent, collapse upwards\n",
    "        \n",
    "### Subset\n",
    "    I am a subset of the target value if I am the same class or a subclass.\n",
    "    \n",
    "\n",
    "\n",
    "### Consistency condition\n",
    "    new value must always be a strict subset of the existing values:\n",
    "    1. New value implements every attribute of the parent object, at least potentially\n",
    "    2. New value implements every method of the parent object\n",
    "    3. "
   ]
  },
  {
   "cell_type": "markdown",
   "metadata": {},
   "source": [
    "# TODO\n",
    "\n",
    "### Bugs\n",
    "\n",
    "Potential issue with prematurely collapsing attributes as I determine if new_value is a subset of self.values\n",
    "\n",
    "Catch cases when trying to collapse object to something out of its scope\n",
    "\n",
    "Review non-shared attributes in light of consistency condition\n",
    "\n",
    "calcattribute -> attributes of sub-symbols\n",
    "\n",
    "adopting attributes of collapse value\n",
    "\n",
    "non-destructive collapse testing ?\n",
    "\n",
    "### New features\n",
    "\n",
    "Make symbols subscriptable\n",
    "\n",
    "Delayed instantiation and factories\n",
    "\n",
    "Don't propagate upwards if our values havent changed\n",
    "\n",
    "### Research\n",
    "\n",
    "How to use symbols in practice?\n",
    "\n",
    "Prove mathematical formalism / review statement of consistency condition\n"
   ]
  },
  {
   "cell_type": "code",
   "execution_count": 37,
   "metadata": {
    "collapsed": false
   },
   "outputs": [
    {
     "name": "stdout",
     "output_type": "stream",
     "text": [
      "The autoreload extension is already loaded. To reload it, use:\n",
      "  %reload_ext autoreload\n"
     ]
    }
   ],
   "source": [
    "%load_ext autoreload\n",
    "\n",
    "%autoreload 2"
   ]
  },
  {
   "cell_type": "code",
   "execution_count": 2,
   "metadata": {
    "collapsed": true
   },
   "outputs": [],
   "source": [
    "from Symbolic.main import AttributesDict"
   ]
  },
  {
   "cell_type": "code",
   "execution_count": 3,
   "metadata": {
    "collapsed": true
   },
   "outputs": [],
   "source": [
    "from Symbolic import Symbolic, Symbol"
   ]
  },
  {
   "cell_type": "code",
   "execution_count": 4,
   "metadata": {
    "collapsed": true
   },
   "outputs": [],
   "source": [
    "class Item(object):\n",
    "    name = Symbolic()\n",
    "#     def __init__(self):\n",
    "#         self.name =\n",
    "\n",
    "class Prop(Item):\n",
    "    pass\n",
    "\n",
    "class Utensil(Prop):\n",
    "    def __init__(self):\n",
    "        self.name = ['butter knife', 'spoon', 'fork']\n",
    "\n",
    "class OneHandedProp(Prop):\n",
    "    def __init__(self):\n",
    "        self.name = ['handbag', 'flower', 'newspaper']\n",
    "    \n",
    "class Weapon(Item):\n",
    "    def __init__(self):\n",
    "        self.damage = 5\n",
    "    def attack(self, other):\n",
    "        pass\n",
    "\n",
    "class Axe(Weapon):\n",
    "    def __init__(self):\n",
    "        self.name = ['Axe', 'Big Axe']\n",
    "        self.damage = 10\n",
    "\n",
    "class Knife(Weapon):\n",
    "    def __init__(self):\n",
    "        self.name = ['Knife', 'Big Knife']\n",
    "        self.damage = 3\n",
    "\n",
    "class Person(object):\n",
    "    name = Symbolic()\n",
    "    item = Symbolic()\n",
    "    def __init__(self):\n",
    "        self.name = ['Steve', 'Joe', 'Bob']\n",
    "        self.item = Item\n",
    "#     def desc(self):\n",
    "#         print(\"You see {}. He is holding a {}\".format(self.name.Observe(), self.item.name.Observe()))\n",
    "\n",
    "class Attacker(Person):\n",
    "    def __init__(self):\n",
    "        self.item = Weapon\n",
    "        self.name = ['Pirate', 'Brigand', 'Assassin']\n",
    "\n",
    "class Civilian(Person):\n",
    "    def __init__(self):\n",
    "        self.item = Prop\n",
    "        self.name = ['Kelsey Grammar', 'Fred', 'Pope Gregory'] \n",
    "        \n",
    "class State(object):\n",
    "    person = Symbolic()\n",
    "    def __init__(self):\n",
    "        self.person = Person"
   ]
  },
  {
   "cell_type": "code",
   "execution_count": 5,
   "metadata": {
    "collapsed": true
   },
   "outputs": [],
   "source": [
    "state = State()"
   ]
  },
  {
   "cell_type": "code",
   "execution_count": 6,
   "metadata": {
    "collapsed": false
   },
   "outputs": [
    {
     "data": {
      "text/plain": [
       "['Pirate', 'Brigand', 'Assassin', 'Kelsey Grammar', 'Fred', 'Pope Gregory']"
      ]
     },
     "execution_count": 6,
     "metadata": {},
     "output_type": "execute_result"
    }
   ],
   "source": [
    "state.person.name"
   ]
  },
  {
   "cell_type": "code",
   "execution_count": 7,
   "metadata": {
    "collapsed": false
   },
   "outputs": [
    {
     "name": "stdout",
     "output_type": "stream",
     "text": [
      "<__main__.Attacker object at 0x1064cd710> restricting [<__main__.Attacker object at 0x1064cd710>] to [<__main__.Attacker object at 0x1064cd710>]\n",
      "checking value  <__main__.Attacker object at 0x1064cd710> of type <class '__main__.Attacker'>\n",
      "<__main__.Attacker object at 0x1064cd710> checking attribute item\n",
      "\t [<__main__.Axe object at 0x1064cd7b8>, <__main__.Knife object at 0x1064cd828>]\n",
      "\t [<__main__.Axe object at 0x1064cd7b8>, <__main__.Knife object at 0x1064cd828>]\n",
      "\tsubset is [<__main__.Axe object at 0x1064cd7b8>, <__main__.Knife object at 0x1064cd828>]\n",
      "<__main__.Attacker object at 0x1064cd710> checking attribute name\n",
      "\t ['Pirate', 'Brigand', 'Assassin']\n",
      "\t ['Pirate', 'Brigand', 'Assassin']\n",
      "\tsubset is ['Pirate', 'Brigand', 'Assassin']\n",
      "checks out\n",
      "<__main__.Attacker object at 0x1064cd710> restricted to [<__main__.Attacker object at 0x1064cd710>]\n"
     ]
    },
    {
     "data": {
      "text/plain": [
       "<__main__.Attacker object at 0x1064cd710>"
      ]
     },
     "execution_count": 7,
     "metadata": {},
     "output_type": "execute_result"
    }
   ],
   "source": [
    "state.person.Observe()"
   ]
  },
  {
   "cell_type": "code",
   "execution_count": 8,
   "metadata": {
    "collapsed": false
   },
   "outputs": [
    {
     "data": {
      "text/plain": [
       "['Pirate', 'Brigand', 'Assassin']"
      ]
     },
     "execution_count": 8,
     "metadata": {},
     "output_type": "execute_result"
    }
   ],
   "source": [
    "state.person.name"
   ]
  },
  {
   "cell_type": "code",
   "execution_count": 9,
   "metadata": {
    "collapsed": false
   },
   "outputs": [
    {
     "data": {
      "text/plain": [
       "['Axe', 'Big Axe', 'Knife', 'Big Knife']"
      ]
     },
     "execution_count": 9,
     "metadata": {},
     "output_type": "execute_result"
    }
   ],
   "source": [
    "state.person.item.name"
   ]
  },
  {
   "cell_type": "code",
   "execution_count": 10,
   "metadata": {
    "collapsed": false
   },
   "outputs": [
    {
     "name": "stdout",
     "output_type": "stream",
     "text": [
      "Big Knife restricting ['Big Knife'] to ['Big Knife']\n",
      "checking value  Big Knife of type <class 'str'>\n",
      "checks out\n",
      "Big Knife restricted to ['Big Knife']\n",
      "[<__main__.Axe object at 0x1064cd7b8>, <__main__.Knife object at 0x1064cd828>] restricting [<__main__.Axe object at 0x1064cd7b8>, <__main__.Knife object at 0x1064cd828>] to [<__main__.Axe object at 0x1064cd7b8>, <__main__.Knife object at 0x1064cd828>]\n",
      "checking value  <__main__.Axe object at 0x1064cd7b8> of type <class '__main__.Axe'>\n",
      "[<__main__.Axe object at 0x1064cd7b8>, <__main__.Knife object at 0x1064cd828>] checking attribute damage\n",
      "\t 10\n",
      "\t [10, 3]\n",
      "\tsubset is 10\n",
      "[<__main__.Axe object at 0x1064cd7b8>, <__main__.Knife object at 0x1064cd828>] checking attribute name\n",
      "\t ['Axe', 'Big Axe']\n",
      "\t Big Knife\n",
      "checking value  <__main__.Knife object at 0x1064cd828> of type <class '__main__.Knife'>\n",
      "[<__main__.Axe object at 0x1064cd7b8>, <__main__.Knife object at 0x1064cd828>] checking attribute damage\n",
      "\t 3\n",
      "\t [10, 3]\n",
      "\tsubset is 3\n",
      "[<__main__.Axe object at 0x1064cd7b8>, <__main__.Knife object at 0x1064cd828>] checking attribute name\n",
      "\t ['Knife', 'Big Knife']\n",
      "\t Big Knife\n",
      "\tsubset is Big Knife\n",
      "checks out\n",
      "[<__main__.Axe object at 0x1064cd7b8>, <__main__.Knife object at 0x1064cd828>] restricted to [<__main__.Knife object at 0x1064cd828>]\n",
      "<__main__.Attacker object at 0x1064cd710> restricting [<__main__.Attacker object at 0x1064cd710>] to [<__main__.Attacker object at 0x1064cd710>]\n",
      "checking value  <__main__.Attacker object at 0x1064cd710> of type <class '__main__.Attacker'>\n",
      "<__main__.Attacker object at 0x1064cd710> checking attribute item\n",
      "\t [<__main__.Axe object at 0x1064cd7b8>, <__main__.Knife object at 0x1064cd828>]\n",
      "\t <__main__.Knife object at 0x1064cd828>\n",
      "\tsubset is <__main__.Knife object at 0x1064cd828>\n",
      "<__main__.Attacker object at 0x1064cd710> checking attribute name\n",
      "\t ['Pirate', 'Brigand', 'Assassin']\n",
      "\t ['Pirate', 'Brigand', 'Assassin']\n",
      "\tsubset is ['Pirate', 'Brigand', 'Assassin']\n",
      "checks out\n",
      "<__main__.Attacker object at 0x1064cd710> restricted to [<__main__.Attacker object at 0x1064cd710>]\n"
     ]
    },
    {
     "data": {
      "text/plain": [
       "Big Knife"
      ]
     },
     "execution_count": 10,
     "metadata": {},
     "output_type": "execute_result"
    }
   ],
   "source": [
    "state.person.item.name.Observe()"
   ]
  },
  {
   "cell_type": "code",
   "execution_count": 11,
   "metadata": {
    "collapsed": false
   },
   "outputs": [
    {
     "data": {
      "text/plain": [
       "<__main__.Knife object at 0x1064cd828>"
      ]
     },
     "execution_count": 11,
     "metadata": {},
     "output_type": "execute_result"
    }
   ],
   "source": [
    "state.person.item"
   ]
  },
  {
   "cell_type": "code",
   "execution_count": 12,
   "metadata": {
    "collapsed": false
   },
   "outputs": [
    {
     "data": {
      "text/plain": [
       "<__main__.Attacker object at 0x1064cd710>"
      ]
     },
     "execution_count": 12,
     "metadata": {},
     "output_type": "execute_result"
    }
   ],
   "source": [
    "state.person"
   ]
  },
  {
   "cell_type": "code",
   "execution_count": 13,
   "metadata": {
    "collapsed": false
   },
   "outputs": [
    {
     "data": {
      "text/plain": [
       "['Pirate', 'Brigand', 'Assassin']"
      ]
     },
     "execution_count": 13,
     "metadata": {},
     "output_type": "execute_result"
    }
   ],
   "source": [
    "state.person.name"
   ]
  },
  {
   "cell_type": "markdown",
   "metadata": {},
   "source": [
    "--- "
   ]
  },
  {
   "cell_type": "code",
   "execution_count": 61,
   "metadata": {
    "collapsed": true
   },
   "outputs": [],
   "source": [
    "person = Symbol(Person)"
   ]
  },
  {
   "cell_type": "code",
   "execution_count": 62,
   "metadata": {
    "collapsed": false,
    "scrolled": true
   },
   "outputs": [
    {
     "name": "stdout",
     "output_type": "stream",
     "text": [
      "<Symbolic.main.Symbol object at 0x1065f32e8> checking attributes on <__main__.Axe object at 0x1065f3048>\n",
      "<__main__.Axe object at 0x1065f3048> passes\n",
      "<Symbolic.main.Symbol object at 0x106558470> checking attributes on <Symbolic.main.Symbol object at 0x106558470>\n",
      "<Symbolic.main.Symbol object at 0x106558470> passes\n"
     ]
    },
    {
     "data": {
      "text/plain": [
       "<Symbolic.main.Symbol at 0x1065f32e8>"
      ]
     },
     "execution_count": 62,
     "metadata": {},
     "output_type": "execute_result"
    }
   ],
   "source": [
    "person.item.Observe()"
   ]
  },
  {
   "cell_type": "code",
   "execution_count": null,
   "metadata": {
    "collapsed": true
   },
   "outputs": [],
   "source": []
  },
  {
   "cell_type": "code",
   "execution_count": 60,
   "metadata": {
    "collapsed": false
   },
   "outputs": [
    {
     "data": {
      "text/plain": [
       "[<Symbolic.main.Symbol at 0x1065e4908>]"
      ]
     },
     "execution_count": 60,
     "metadata": {},
     "output_type": "execute_result"
    }
   ],
   "source": [
    "person.values"
   ]
  },
  {
   "cell_type": "code",
   "execution_count": 63,
   "metadata": {
    "collapsed": false
   },
   "outputs": [],
   "source": [
    "state = State()"
   ]
  },
  {
   "cell_type": "code",
   "execution_count": 64,
   "metadata": {
    "collapsed": false
   },
   "outputs": [
    {
     "data": {
      "text/plain": [
       "<Symbolic.main.Symbol at 0x1065f3438>"
      ]
     },
     "execution_count": 64,
     "metadata": {},
     "output_type": "execute_result"
    }
   ],
   "source": [
    "state.person"
   ]
  },
  {
   "cell_type": "code",
   "execution_count": 66,
   "metadata": {
    "collapsed": false
   },
   "outputs": [
    {
     "name": "stdout",
     "output_type": "stream",
     "text": [
      "<Symbolic.main.Symbol object at 0x1065f3438> checking attributes on <__main__.Civilian object at 0x1065f3b38>\n",
      "<__main__.Civilian object at 0x1065f3b38> passes\n"
     ]
    },
    {
     "data": {
      "text/plain": [
       "<Symbolic.main.Symbol at 0x1065f3438>"
      ]
     },
     "execution_count": 66,
     "metadata": {},
     "output_type": "execute_result"
    }
   ],
   "source": [
    "state.person.Observe()"
   ]
  },
  {
   "cell_type": "code",
   "execution_count": 56,
   "metadata": {
    "collapsed": false
   },
   "outputs": [
    {
     "name": "stdout",
     "output_type": "stream",
     "text": [
      "<Symbolic.main.Symbol object at 0x10655d908> checking attributes on None\n",
      "None passes\n"
     ]
    },
    {
     "data": {
      "text/plain": [
       "<Symbolic.main.Symbol at 0x10655d908>"
      ]
     },
     "execution_count": 56,
     "metadata": {},
     "output_type": "execute_result"
    }
   ],
   "source": [
    "state.person.Collapse(person)"
   ]
  },
  {
   "cell_type": "code",
   "execution_count": 36,
   "metadata": {
    "collapsed": false
   },
   "outputs": [
    {
     "data": {
      "text/plain": [
       "None"
      ]
     },
     "execution_count": 36,
     "metadata": {},
     "output_type": "execute_result"
    }
   ],
   "source": [
    "state.person"
   ]
  },
  {
   "cell_type": "code",
   "execution_count": null,
   "metadata": {
    "collapsed": true
   },
   "outputs": [],
   "source": []
  }
 ],
 "metadata": {
  "anaconda-cloud": {},
  "kernelspec": {
   "display_name": "Python [conda env:py3]",
   "language": "python",
   "name": "conda-env-py3-py"
  },
  "language_info": {
   "codemirror_mode": {
    "name": "ipython",
    "version": 3
   },
   "file_extension": ".py",
   "mimetype": "text/x-python",
   "name": "python",
   "nbconvert_exporter": "python",
   "pygments_lexer": "ipython3",
   "version": "3.6.2"
  }
 },
 "nbformat": 4,
 "nbformat_minor": 1
}
