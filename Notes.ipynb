{
 "cells": [
  {
   "cell_type": "markdown",
   "metadata": {},
   "source": [
    "# Basic algorithm\n",
    "\n",
    "### Collapse\n",
    "    1. restrict my values to the minimal subset of target values\n",
    "        if I am None, return None\n",
    "    2. for each of my values, for each of shared attributes \n",
    "        restrict(value.attr, target.attr)\n",
    "        if they return None, I return None\n",
    "    2.5. recalculate my attributes\n",
    "    3. adopt all other attributes of the target values\n",
    "    4. if i am the first, collapse upward\n",
    "   \n",
    "        \n",
    "### Restriction\n",
    "    for every element in me, keep if i am a superset of every element in target.\n",
    "        this ensures that we can take any possible instance of the target and find its \n",
    "        realization in original values\n",
    "\n",
    "### Collapse upward\n",
    "    2. for each of my values, if they have attribute\n",
    "        restrict value attributes to the target attributes.\n",
    "        if they return None, drop this value\n",
    "    if i have lost all of my values, throw exception\n",
    "    if i have a parent, collapse upwards\n",
    "        \n",
    "### Subset\n",
    "    I am a subset of the target value if I am the same class or a subclass.\n",
    "    \n",
    "\n",
    "\n",
    "### Consistency condition\n",
    "    new value must always be a strict subset of the existing values:\n",
    "    1. New value implements every attribute of the parent object, at least potentially\n",
    "    2. New value implements every method of the parent object\n",
    "    3. "
   ]
  },
  {
   "cell_type": "markdown",
   "metadata": {},
   "source": [
    "# TODO\n",
    "\n",
    "### Bugs\n",
    "\n",
    "Potential issue with prematurely collapsing attributes as I determine if new_value is a subset of self.values\n",
    "\n",
    "Catch cases when trying to collapse object to something out of its scope\n",
    "\n",
    "Review non-shared attributes in light of consistency condition\n",
    "\n",
    "calcattribute -> attributes of sub-symbols\n",
    "\n",
    "adopting attributes of collapse value\n",
    "\n",
    "non-destructive collapse testing ?\n",
    "\n",
    "### New features\n",
    "\n",
    "Make symbols subscriptable\n",
    "\n",
    "Delayed instantiation and factories\n",
    "\n",
    "Don't propagate upwards if our values havent changed\n",
    "\n",
    "### Research\n",
    "\n",
    "How to use symbols in practice?\n",
    "\n",
    "Prove mathematical formalism / review statement of consistency condition\n"
   ]
  },
  {
   "cell_type": "code",
   "execution_count": 2,
   "metadata": {},
   "outputs": [],
   "source": [
    "%load_ext autoreload\n",
    "\n",
    "%autoreload 2"
   ]
  },
  {
   "cell_type": "code",
   "execution_count": 86,
   "metadata": {},
   "outputs": [],
   "source": [
    "from Symbolic import Symbolic"
   ]
  },
  {
   "cell_type": "code",
   "execution_count": null,
   "metadata": {},
   "outputs": [],
   "source": []
  },
  {
   "cell_type": "code",
   "execution_count": 87,
   "metadata": {},
   "outputs": [],
   "source": [
    "class Item(object):\n",
    "    name = Symbolic()\n",
    "\n",
    "class Prop(Item):\n",
    "    def __init__(self):\n",
    "        pass\n",
    "\n",
    "class Utensil(Prop):\n",
    "    def __init__(self):\n",
    "        self.name = ['knife', 'spoon', 'fork']\n",
    "\n",
    "class OneHandedProp(Prop):\n",
    "    def __init__(self):\n",
    "        self.name = ['handbag', 'flower', 'newspaper']\n",
    "    \n",
    "class Weapon(Item):\n",
    "    def __init__(self):\n",
    "        self.damage = 5\n",
    "    def attack(self, other):\n",
    "        pass\n",
    "\n",
    "class Axe(Weapon):\n",
    "    def __init__(self):\n",
    "        self.name = ['Axe', 'Big Axe']\n",
    "        self.damage = 10\n",
    "\n",
    "class Knife(Weapon):\n",
    "    def __init__(self):\n",
    "        self.name = ['Knife', 'Big Knife']\n",
    "        self.damage = 3\n",
    "\n",
    "class Person(object):\n",
    "    name = Symbolic()\n",
    "    item = Symbolic()\n",
    "    def __init__(self):\n",
    "        self.name = ['Steve', 'Joe', 'Bob']\n",
    "        self.item = Item\n",
    "#     def desc(self):\n",
    "#         print(\"You see {}. He is holding a {}\".format(self.name.Observe(), self.item.name.Observe()))\n",
    "\n",
    "class Attacker(Person):\n",
    "    def __init__(self):\n",
    "        self.item = Weapon\n",
    "        self.name = ['Pirate', 'Brigand', 'Assassin']\n",
    "\n",
    "class Civilian(Person):\n",
    "    def __init__(self):\n",
    "        self.item = Prop\n",
    "        self.name = ['Kelsey Grammar', 'Fred', 'Pope Gregory'] \n",
    "        \n",
    "class State(object):\n",
    "    person = Symbolic()\n",
    "    def __init__(self):\n",
    "        self.person = Person"
   ]
  },
  {
   "cell_type": "code",
   "execution_count": 106,
   "metadata": {},
   "outputs": [],
   "source": [
    "state = State()"
   ]
  },
  {
   "cell_type": "code",
   "execution_count": 107,
   "metadata": {},
   "outputs": [
    {
     "data": {
      "text/plain": [
       "[<__main__.Attacker object at 0x1111295c0>, <__main__.Civilian object at 0x111129ba8>]"
      ]
     },
     "execution_count": 107,
     "metadata": {},
     "output_type": "execute_result"
    }
   ],
   "source": [
    "state.person"
   ]
  },
  {
   "cell_type": "code",
   "execution_count": 108,
   "metadata": {},
   "outputs": [
    {
     "data": {
      "text/plain": [
       "['Pirate', 'Brigand', 'Assassin', 'Kelsey Grammar', 'Fred', 'Pope Gregory']"
      ]
     },
     "execution_count": 108,
     "metadata": {},
     "output_type": "execute_result"
    }
   ],
   "source": [
    "state.person.name"
   ]
  },
  {
   "cell_type": "code",
   "execution_count": 109,
   "metadata": {},
   "outputs": [
    {
     "data": {
      "text/plain": [
       "<__main__.Attacker object at 0x1111295c0>"
      ]
     },
     "execution_count": 109,
     "metadata": {},
     "output_type": "execute_result"
    }
   ],
   "source": [
    "state.person.Observe()"
   ]
  },
  {
   "cell_type": "code",
   "execution_count": 110,
   "metadata": {},
   "outputs": [
    {
     "data": {
      "text/plain": [
       "['Pirate', 'Brigand', 'Assassin']"
      ]
     },
     "execution_count": 110,
     "metadata": {},
     "output_type": "execute_result"
    }
   ],
   "source": [
    "state.person.name"
   ]
  },
  {
   "cell_type": "code",
   "execution_count": 111,
   "metadata": {},
   "outputs": [
    {
     "data": {
      "text/plain": [
       "['Axe', 'Big Axe', 'Knife', 'Big Knife']"
      ]
     },
     "execution_count": 111,
     "metadata": {},
     "output_type": "execute_result"
    }
   ],
   "source": [
    "state.person.item.name"
   ]
  },
  {
   "cell_type": "code",
   "execution_count": 112,
   "metadata": {},
   "outputs": [
    {
     "data": {
      "text/plain": [
       "Big Axe"
      ]
     },
     "execution_count": 112,
     "metadata": {},
     "output_type": "execute_result"
    }
   ],
   "source": [
    "state.person.item.name.Observe()"
   ]
  },
  {
   "cell_type": "code",
   "execution_count": 113,
   "metadata": {},
   "outputs": [
    {
     "data": {
      "text/plain": [
       "<__main__.Axe object at 0x111129518>"
      ]
     },
     "execution_count": 113,
     "metadata": {},
     "output_type": "execute_result"
    }
   ],
   "source": [
    "state.person.item"
   ]
  },
  {
   "cell_type": "code",
   "execution_count": 114,
   "metadata": {},
   "outputs": [
    {
     "data": {
      "text/plain": [
       "Big Axe"
      ]
     },
     "execution_count": 114,
     "metadata": {},
     "output_type": "execute_result"
    }
   ],
   "source": [
    "state.person.item.name"
   ]
  },
  {
   "cell_type": "code",
   "execution_count": 115,
   "metadata": {},
   "outputs": [],
   "source": [
    "x = [1, 2, None, 3, 4, None, 5]"
   ]
  },
  {
   "cell_type": "code",
   "execution_count": 118,
   "metadata": {},
   "outputs": [
    {
     "data": {
      "text/plain": [
       "[1, 2, 3, 4, 5]"
      ]
     },
     "execution_count": 118,
     "metadata": {},
     "output_type": "execute_result"
    }
   ],
   "source": [
    "list(filter(lambda n: n is not None, x))"
   ]
  },
  {
   "cell_type": "code",
   "execution_count": null,
   "metadata": {},
   "outputs": [],
   "source": []
  }
 ],
 "metadata": {
  "anaconda-cloud": {},
  "kernelspec": {
   "display_name": "Python [conda env:anaconda3]",
   "language": "python",
   "name": "conda-env-anaconda3-py"
  },
  "language_info": {
   "codemirror_mode": {
    "name": "ipython",
    "version": 3
   },
   "file_extension": ".py",
   "mimetype": "text/x-python",
   "name": "python",
   "nbconvert_exporter": "python",
   "pygments_lexer": "ipython3",
   "version": "3.6.5"
  }
 },
 "nbformat": 4,
 "nbformat_minor": 1
}
