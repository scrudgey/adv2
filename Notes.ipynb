{
 "cells": [
  {
   "cell_type": "markdown",
   "metadata": {},
   "source": [
    "# Basic algorithm\n",
    "\n",
    "### Collapse\n",
    "    1. restrict my values to the minimal subset of target values\n",
    "        if I am None, return None\n",
    "    2. for each of my values, for each of shared attributes \n",
    "        restrict(value.attr, target.attr)\n",
    "        if they return None, I return None\n",
    "    2.5. recalculate my attributes\n",
    "    3. adopt all other attributes of the target values\n",
    "    4. if i am the first, collapse upward\n",
    "   \n",
    "        \n",
    "### Restriction\n",
    "    for every element in me, keep if i am a superset of every element in target.\n",
    "        this ensures that we can take any possible instance of the target and find its \n",
    "        realization in original values\n",
    "\n",
    "### Collapse upward\n",
    "    2. for each of my values, if they have attribute\n",
    "        restrict value attributes to the target attributes.\n",
    "        if they return None, drop this value\n",
    "    if i have lost all of my values, throw exception\n",
    "    if i have a parent, collapse upwards\n",
    "        \n",
    "### Subset\n",
    "    I am a subset of the target value if I am the same class or a subclass.\n",
    "    \n",
    "\n",
    "\n",
    "### Consistency condition\n",
    "    new value must always be a strict subset of the existing values:\n",
    "    1. New value implements every attribute of the parent object, at least potentially\n",
    "    2. New value implements every method of the parent object\n",
    "    3. "
   ]
  },
  {
   "cell_type": "markdown",
   "metadata": {},
   "source": [
    "# TODO\n",
    "\n",
    "### Bugs\n",
    "\n",
    "Potential issue with prematurely collapsing attributes as I determine if new_value is a subset of self.values\n",
    "\n",
    "Catch cases when trying to collapse object to something out of its scope\n",
    "\n",
    "Review non-shared attributes in light of consistency condition\n",
    "\n",
    "calcattribute -> attributes of sub-symbols\n",
    "\n",
    "adopting attributes of collapse value\n",
    "\n",
    "non-destructive collapse testing ?\n",
    "\n",
    "### New features\n",
    "\n",
    "Make symbols subscriptable\n",
    "\n",
    "Delayed instantiation and factories\n",
    "\n",
    "Don't propagate upwards if our values havent changed\n",
    "\n",
    "### Research\n",
    "\n",
    "How to use symbols in practice?\n",
    "\n",
    "Prove mathematical formalism / review statement of consistency condition\n"
   ]
  },
  {
   "cell_type": "code",
   "execution_count": 14,
   "metadata": {
    "collapsed": false
   },
   "outputs": [
    {
     "name": "stdout",
     "output_type": "stream",
     "text": [
      "The autoreload extension is already loaded. To reload it, use:\n",
      "  %reload_ext autoreload\n"
     ]
    }
   ],
   "source": [
    "%load_ext autoreload\n",
    "\n",
    "%autoreload 2"
   ]
  },
  {
   "cell_type": "code",
   "execution_count": 15,
   "metadata": {
    "collapsed": false
   },
   "outputs": [],
   "source": [
    "import Symbolic as sym\n",
    "\n",
    "from Symbolic import Symbolic, Symbol\n",
    "\n",
    "class Item(object):\n",
    "    name = Symbolic()\n",
    "#     def __init__(self):\n",
    "#         self.name =\n",
    "\n",
    "class Prop(Item):\n",
    "    pass\n",
    "\n",
    "class Utensil(Prop):\n",
    "    def __init__(self):\n",
    "        self.name = ['butter knife', 'spoon', 'fork']\n",
    "\n",
    "class OneHandedProp(Prop):\n",
    "    def __init__(self):\n",
    "        self.name = ['handbag', 'flower', 'newspaper']\n",
    "    \n",
    "class Weapon(Item):\n",
    "    def __init__(self):\n",
    "        self.damage = 5\n",
    "    def attack(self, other):\n",
    "        pass\n",
    "\n",
    "class Axe(Weapon):\n",
    "    def __init__(self):\n",
    "        self.name = ['Axe', 'Big Axe']\n",
    "        self.damage = 10\n",
    "\n",
    "class Knife(Weapon):\n",
    "    def __init__(self):\n",
    "        self.name = ['Knife', 'Big Knife']\n",
    "        self.damage = 3\n",
    "\n",
    "class Person(object):\n",
    "    name = Symbolic()\n",
    "    item = Symbolic()\n",
    "    def __init__(self):\n",
    "        self.name = ['Steve', 'Joe', 'Bob']\n",
    "        self.item = Item\n",
    "#     def desc(self):\n",
    "#         print(\"You see {}. He is holding a {}\".format(self.name.Observe(), self.item.name.Observe()))\n",
    "\n",
    "class Attacker(Person):\n",
    "    def __init__(self):\n",
    "        self.item = Weapon\n",
    "        self.name = ['Pirate', 'Brigand', 'Assassin']\n",
    "\n",
    "class Civilian(Person):\n",
    "    def __init__(self):\n",
    "        self.item = Prop\n",
    "        self.name = ['Kelsey Grammar', 'Fred', 'Pope Gregory'] \n",
    "        \n",
    "class State(object):\n",
    "    person = Symbolic()\n",
    "    def __init__(self):\n",
    "        self.person = Person"
   ]
  },
  {
   "cell_type": "code",
   "execution_count": null,
   "metadata": {
    "collapsed": true
   },
   "outputs": [],
   "source": [
    "state = State()"
   ]
  },
  {
   "cell_type": "code",
   "execution_count": null,
   "metadata": {
    "collapsed": false
   },
   "outputs": [],
   "source": [
    "state.person.name"
   ]
  },
  {
   "cell_type": "code",
   "execution_count": null,
   "metadata": {
    "collapsed": false
   },
   "outputs": [],
   "source": [
    "state.person.Observe()"
   ]
  },
  {
   "cell_type": "code",
   "execution_count": null,
   "metadata": {
    "collapsed": false
   },
   "outputs": [],
   "source": [
    "state.person.name"
   ]
  },
  {
   "cell_type": "code",
   "execution_count": null,
   "metadata": {
    "collapsed": false
   },
   "outputs": [],
   "source": [
    "state.person.item.name"
   ]
  },
  {
   "cell_type": "code",
   "execution_count": null,
   "metadata": {
    "collapsed": false
   },
   "outputs": [],
   "source": [
    "state.person.item.name.Observe()"
   ]
  },
  {
   "cell_type": "code",
   "execution_count": null,
   "metadata": {
    "collapsed": false
   },
   "outputs": [],
   "source": [
    "state.person.item"
   ]
  },
  {
   "cell_type": "code",
   "execution_count": null,
   "metadata": {
    "collapsed": false
   },
   "outputs": [],
   "source": [
    "state.person"
   ]
  },
  {
   "cell_type": "code",
   "execution_count": null,
   "metadata": {
    "collapsed": false
   },
   "outputs": [],
   "source": [
    "state.person.name"
   ]
  },
  {
   "cell_type": "markdown",
   "metadata": {},
   "source": [
    "--- "
   ]
  },
  {
   "cell_type": "code",
   "execution_count": 16,
   "metadata": {
    "collapsed": false
   },
   "outputs": [],
   "source": [
    "state = State()\n",
    "person = Symbol(Person)"
   ]
  },
  {
   "cell_type": "code",
   "execution_count": 17,
   "metadata": {
    "collapsed": false
   },
   "outputs": [
    {
     "data": {
      "text/plain": [
       "False"
      ]
     },
     "execution_count": 17,
     "metadata": {},
     "output_type": "execute_result"
    }
   ],
   "source": [
    "type(state.person) == type(person)"
   ]
  },
  {
   "cell_type": "markdown",
   "metadata": {},
   "source": [
    "---"
   ]
  },
  {
   "cell_type": "code",
   "execution_count": 1,
   "metadata": {
    "collapsed": true
   },
   "outputs": [],
   "source": [
    "# import Symbolic as sym\n",
    "\n",
    "from Symbolic import Symbol\n",
    "\n",
    "class Item(object):\n",
    "    pass\n",
    "#     name = Symbolic()\n",
    "#     def __init__(self):\n",
    "#         self.name =\n",
    "\n",
    "class Prop(Item):\n",
    "    pass\n",
    "\n",
    "class Utensil(Prop):\n",
    "    def __init__(self):\n",
    "        self.name = Symbol(['butter knife', 'spoon', 'fork'])\n",
    "\n",
    "class OneHandedProp(Prop):\n",
    "    def __init__(self):\n",
    "        self.name = Symbol(['handbag', 'flower', 'newspaper'])\n",
    "    \n",
    "class Weapon(Item):\n",
    "    def __init__(self):\n",
    "        self.damage = 5\n",
    "    def attack(self, other):\n",
    "        pass\n",
    "\n",
    "class Axe(Weapon):\n",
    "    def __init__(self):\n",
    "        self.name = Symbol(['Axe', 'Big Axe'])\n",
    "        self.damage = 10\n",
    "\n",
    "class Knife(Weapon):\n",
    "    def __init__(self):\n",
    "        self.name = Symbol(['Knife', 'Big Knife'])\n",
    "        self.damage = 3\n",
    "\n",
    "class Person(object):\n",
    "#     name = Symbolic()\n",
    "#     item = Symbolic()\n",
    "    def __init__(self):\n",
    "        self.name = Symbol(['Steve', 'Joe', 'Bob'])\n",
    "        self.item = Symbol(Item)\n",
    "#     def desc(self):\n",
    "#         print(\"You see {}. He is holding a {}\".format(self.name.Observe(), self.item.name.Observe()))\n",
    "\n",
    "class Attacker(Person):\n",
    "    def __init__(self):\n",
    "        self.item = Symbol(Weapon)\n",
    "        self.name = Symbol(['Pirate', 'Brigand', 'Assassin'])\n",
    "\n",
    "class Civilian(Person):\n",
    "    def __init__(self):\n",
    "        self.item = Symbol(Prop)\n",
    "        self.name = Symbol(['Kelsey Grammar', 'Fred', 'Pope Gregory'])\n",
    "        \n",
    "class State(object):\n",
    "#     person = Symbolic()\n",
    "    def __init__(self):\n",
    "        self.person = Symbol(Person)"
   ]
  },
  {
   "cell_type": "code",
   "execution_count": 11,
   "metadata": {
    "collapsed": false,
    "scrolled": true
   },
   "outputs": [],
   "source": [
    "person1 = Symbol(Person)\n",
    "person2 = Symbol(Person)"
   ]
  },
  {
   "cell_type": "code",
   "execution_count": 12,
   "metadata": {
    "collapsed": false
   },
   "outputs": [
    {
     "data": {
      "text/plain": [
       "[<__main__.Axe at 0x10a5ea2b0>,\n",
       " <__main__.Knife at 0x10a5ea320>,\n",
       " <__main__.Utensil at 0x10a5ea4a8>,\n",
       " <__main__.OneHandedProp at 0x10a5ea518>]"
      ]
     },
     "execution_count": 12,
     "metadata": {},
     "output_type": "execute_result"
    }
   ],
   "source": [
    "person1.item.values"
   ]
  },
  {
   "cell_type": "code",
   "execution_count": 13,
   "metadata": {
    "collapsed": false
   },
   "outputs": [
    {
     "name": "stdout",
     "output_type": "stream",
     "text": [
      "[<__main__.Axe object at 0x10a5ea780>, <__main__.Knife object at 0x10a5ea7f0>, <__main__.Utensil object at 0x10a5ea978>, <__main__.OneHandedProp object at 0x10a5ea9e8>] init values of type <class '__main__.Axe'>\n",
      "[<__main__.Attacker object at 0x10a5ea6d8>, <__main__.Civilian object at 0x10a5ea8d0>] init values of type <class 'list'>\n"
     ]
    },
    {
     "data": {
      "text/plain": [
       "<__main__.Axe object at 0x10a5ea780>"
      ]
     },
     "execution_count": 13,
     "metadata": {},
     "output_type": "execute_result"
    }
   ],
   "source": [
    "person2.item.Observe()"
   ]
  },
  {
   "cell_type": "code",
   "execution_count": 14,
   "metadata": {
    "collapsed": false
   },
   "outputs": [
    {
     "data": {
      "text/plain": [
       "<__main__.Axe object at 0x10a5ea780>"
      ]
     },
     "execution_count": 14,
     "metadata": {},
     "output_type": "execute_result"
    }
   ],
   "source": [
    "person2.item"
   ]
  },
  {
   "cell_type": "code",
   "execution_count": 15,
   "metadata": {
    "collapsed": false
   },
   "outputs": [
    {
     "name": "stdout",
     "output_type": "stream",
     "text": [
      "[<__main__.Attacker object at 0x10a5ea198>, <__main__.Civilian object at 0x10a5ea400>] init values of type <class '__main__.Attacker'>\n"
     ]
    },
    {
     "data": {
      "text/plain": [
       "<__main__.Attacker object at 0x10a5ea198>"
      ]
     },
     "execution_count": 15,
     "metadata": {},
     "output_type": "execute_result"
    }
   ],
   "source": [
    "person1.Collapse(person2)"
   ]
  },
  {
   "cell_type": "code",
   "execution_count": 18,
   "metadata": {
    "collapsed": false
   },
   "outputs": [
    {
     "data": {
      "text/plain": [
       "['Axe', 'Big Axe']"
      ]
     },
     "execution_count": 18,
     "metadata": {},
     "output_type": "execute_result"
    }
   ],
   "source": [
    "person1.item.name"
   ]
  },
  {
   "cell_type": "code",
   "execution_count": 2,
   "metadata": {
    "collapsed": false
   },
   "outputs": [],
   "source": [
    "person = Symbol(Person)"
   ]
  },
  {
   "cell_type": "code",
   "execution_count": 3,
   "metadata": {
    "collapsed": false
   },
   "outputs": [
    {
     "data": {
      "text/plain": [
       "[<__main__.Axe object at 0x10a5d5908>, <__main__.Knife object at 0x10a5d54a8>, <__main__.Utensil object at 0x10a5d5518>, <__main__.OneHandedProp object at 0x10a5d5da0>]"
      ]
     },
     "execution_count": 3,
     "metadata": {},
     "output_type": "execute_result"
    }
   ],
   "source": [
    "person.item"
   ]
  },
  {
   "cell_type": "code",
   "execution_count": 4,
   "metadata": {
    "collapsed": false
   },
   "outputs": [
    {
     "name": "stdout",
     "output_type": "stream",
     "text": [
      "[<__main__.Axe object at 0x10a5d5908>, <__main__.Knife object at 0x10a5d54a8>, <__main__.Utensil object at 0x10a5d5518>, <__main__.OneHandedProp object at 0x10a5d5da0>] init values of type <class '__main__.Axe'>\n",
      "[<__main__.Attacker object at 0x10a5d5a58>, <__main__.Civilian object at 0x10a5d57f0>] init values of type <class 'list'>\n"
     ]
    },
    {
     "data": {
      "text/plain": [
       "<__main__.Axe object at 0x10a5d5908>"
      ]
     },
     "execution_count": 4,
     "metadata": {},
     "output_type": "execute_result"
    }
   ],
   "source": [
    "person.item.Observe()"
   ]
  },
  {
   "cell_type": "code",
   "execution_count": 5,
   "metadata": {
    "collapsed": false
   },
   "outputs": [
    {
     "data": {
      "text/plain": [
       "['Axe', 'Big Axe']"
      ]
     },
     "execution_count": 5,
     "metadata": {},
     "output_type": "execute_result"
    }
   ],
   "source": [
    "person.item.name"
   ]
  },
  {
   "cell_type": "code",
   "execution_count": null,
   "metadata": {
    "collapsed": true
   },
   "outputs": [],
   "source": []
  }
 ],
 "metadata": {
  "anaconda-cloud": {},
  "kernelspec": {
   "display_name": "Python [conda env:py3]",
   "language": "python",
   "name": "conda-env-py3-py"
  },
  "language_info": {
   "codemirror_mode": {
    "name": "ipython",
    "version": 3
   },
   "file_extension": ".py",
   "mimetype": "text/x-python",
   "name": "python",
   "nbconvert_exporter": "python",
   "pygments_lexer": "ipython3",
   "version": "3.6.2"
  }
 },
 "nbformat": 4,
 "nbformat_minor": 1
}
