{
 "cells": [
  {
   "cell_type": "code",
   "execution_count": 1,
   "metadata": {},
   "outputs": [],
   "source": [
    "from Symbolic import Symbolic"
   ]
  },
  {
   "cell_type": "markdown",
   "metadata": {},
   "source": [
    "# Basic Functionality"
   ]
  },
  {
   "cell_type": "code",
   "execution_count": 22,
   "metadata": {},
   "outputs": [],
   "source": [
    "# superclass\n",
    "class Fruit(object):\n",
    "    color = Symbolic()\n",
    "\n",
    "# Apple is a type of Fruit that can be red or green\n",
    "class Apple(Fruit):\n",
    "    def __init__(self):\n",
    "        self.name = 'Apple'\n",
    "        self.color = ['red', 'green']\n",
    "\n",
    "# Pear is a Fruit that can be red or yellow\n",
    "class Pear(Fruit):\n",
    "    def __init__(self):\n",
    "        self.name = 'Pear'\n",
    "        self.color = ['red', 'yellow']\n",
    "\n",
    "# State will be our main container\n",
    "class State(object):\n",
    "    fruit = Symbolic()\n",
    "    \n",
    "    def __init__(self):\n",
    "        # state has a Fruit, but we do not \n",
    "        # specify what type of fruit it is.\n",
    "        self.fruit = Fruit"
   ]
  },
  {
   "cell_type": "markdown",
   "metadata": {},
   "source": [
    "# Collapsing Symbolic values"
   ]
  },
  {
   "cell_type": "code",
   "execution_count": 39,
   "metadata": {},
   "outputs": [
    {
     "data": {
      "text/plain": [
       "[<__main__.Apple object at 0x10e153048>, <__main__.Pear object at 0x10e153390>]"
      ]
     },
     "execution_count": 39,
     "metadata": {},
     "output_type": "execute_result"
    }
   ],
   "source": [
    "# instantiate a new state\n",
    "state = State()\n",
    "\n",
    "# check the possible values of state.fruit\n",
    "state.fruit"
   ]
  },
  {
   "cell_type": "markdown",
   "metadata": {},
   "source": [
    "Because state.fruit is a Symbolic attribute, its value is not determined until we force it to collapse by observing it:"
   ]
  },
  {
   "cell_type": "code",
   "execution_count": 40,
   "metadata": {},
   "outputs": [
    {
     "data": {
      "text/plain": [
       "<__main__.Apple at 0x10e153048>"
      ]
     },
     "execution_count": 40,
     "metadata": {},
     "output_type": "execute_result"
    }
   ],
   "source": [
    "# observe state.fruit\n",
    "state.fruit.Observe()"
   ]
  },
  {
   "cell_type": "markdown",
   "metadata": {},
   "source": [
    "Observing state.fruit forces it randomly choose one of its potential values.\n",
    "\n",
    "state.fruit returned a concrete instance of an Apple object. If we subsequently check the value of state.fruit, we will see that it is now just an Apple:"
   ]
  },
  {
   "cell_type": "code",
   "execution_count": 42,
   "metadata": {},
   "outputs": [
    {
     "data": {
      "text/plain": [
       "<__main__.Apple object at 0x10e153048>"
      ]
     },
     "execution_count": 42,
     "metadata": {},
     "output_type": "execute_result"
    }
   ],
   "source": [
    "state.fruit"
   ]
  },
  {
   "cell_type": "markdown",
   "metadata": {},
   "source": [
    "after state has decided that state.fruit is an Apple, it will always be an Apple after that."
   ]
  },
  {
   "cell_type": "markdown",
   "metadata": {},
   "source": [
    "# Restriction\n",
    "\n",
    "Even though state.fruit doesn't have a concrete value, we can still check the possible values of state.fruit.name and state.fruit.color.\n",
    "\n",
    "Start by generating a fresh state:"
   ]
  },
  {
   "cell_type": "code",
   "execution_count": 54,
   "metadata": {},
   "outputs": [
    {
     "name": "stdout",
     "output_type": "stream",
     "text": [
      "['Apple', 'Pear']\n",
      "['red', 'green', 'red', 'yellow']\n"
     ]
    }
   ],
   "source": [
    "# instantiate a new state\n",
    "state = State()\n",
    "\n",
    "# check the possible values of state.fruit.name and state.fruit.color\n",
    "print(state.fruit.name)\n",
    "print(state.fruit.color)"
   ]
  },
  {
   "cell_type": "markdown",
   "metadata": {},
   "source": [
    "Because state.fruit might be an Apple or a Pear, its name could be either 'Apple' or 'Pear'. Likewise, its color could be red, green, or yellow.\n",
    "\n",
    "Let's force state.fruit.color to collapse to a concrete value by observing it:"
   ]
  },
  {
   "cell_type": "code",
   "execution_count": 55,
   "metadata": {},
   "outputs": [
    {
     "name": "stdout",
     "output_type": "stream",
     "text": [
      "red\n"
     ]
    }
   ],
   "source": [
    "print(state.fruit.color.Observe())"
   ]
  },
  {
   "cell_type": "markdown",
   "metadata": {},
   "source": [
    "We've determined that the fruit is red, but Apple and Pear can both be red, so state.fruit will still be in a superposition.\n",
    "\n",
    "Check:"
   ]
  },
  {
   "cell_type": "code",
   "execution_count": 57,
   "metadata": {},
   "outputs": [
    {
     "name": "stdout",
     "output_type": "stream",
     "text": [
      "[<__main__.Apple object at 0x10e144b38>, <__main__.Pear object at 0x10e144cc0>]\n",
      "['Apple', 'Pear']\n",
      "['red', 'red']\n"
     ]
    }
   ],
   "source": [
    "print(state.fruit)\n",
    "print(state.fruit.name)\n",
    "print(state.fruit.color)"
   ]
  },
  {
   "cell_type": "markdown",
   "metadata": {},
   "source": [
    "As expected, state.fruit is still in a superposition.\n",
    "\n",
    "Let's now collapse state.fruit.name:"
   ]
  },
  {
   "cell_type": "code",
   "execution_count": 58,
   "metadata": {},
   "outputs": [
    {
     "name": "stdout",
     "output_type": "stream",
     "text": [
      "Apple\n"
     ]
    }
   ],
   "source": [
    "print(state.fruit.name.Observe())"
   ]
  },
  {
   "cell_type": "code",
   "execution_count": 59,
   "metadata": {},
   "outputs": [
    {
     "name": "stdout",
     "output_type": "stream",
     "text": [
      "Apple\n",
      "red\n"
     ]
    }
   ],
   "source": [
    "print(state.fruit.name)\n",
    "print(state.fruit.color)"
   ]
  },
  {
   "cell_type": "markdown",
   "metadata": {},
   "source": [
    "So far, we have learned that state.fruit is red, and state.name is 'Apple'. Even though we haven't Observed state.fruit itself, we have restricted its possible values to only those consistent with these properties.\n",
    "\n",
    "Out of a possible [Pear, Apple], only Apple could have the name 'Apple'. Therefore when we check state.fruit, it should be an Apple:"
   ]
  },
  {
   "cell_type": "code",
   "execution_count": 60,
   "metadata": {},
   "outputs": [
    {
     "name": "stdout",
     "output_type": "stream",
     "text": [
      "<__main__.Apple object at 0x10e144b38>\n",
      "Apple\n",
      "red\n"
     ]
    }
   ],
   "source": [
    "print(state.fruit)\n",
    "print(state.fruit.name)\n",
    "print(state.fruit.color)"
   ]
  },
  {
   "cell_type": "code",
   "execution_count": null,
   "metadata": {
    "collapsed": true
   },
   "outputs": [],
   "source": []
  }
 ],
 "metadata": {
  "anaconda-cloud": {},
  "kernelspec": {
   "display_name": "Python [conda env:anaconda3]",
   "language": "python",
   "name": "conda-env-anaconda3-py"
  },
  "language_info": {
   "codemirror_mode": {
    "name": "ipython",
    "version": 3
   },
   "file_extension": ".py",
   "mimetype": "text/x-python",
   "name": "python",
   "nbconvert_exporter": "python",
   "pygments_lexer": "ipython3",
   "version": "3.6.5"
  }
 },
 "nbformat": 4,
 "nbformat_minor": 2
}
