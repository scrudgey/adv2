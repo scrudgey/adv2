{
 "cells": [
  {
   "cell_type": "code",
   "execution_count": 23,
   "metadata": {},
   "outputs": [],
   "source": [
    "import inspect\n",
    "import random\n",
    "from collections import defaultdict\n",
    "\n",
    "PRIMITIVE_TYPES = [str, int, float]\n",
    "\n",
    "class Symbol(object):\n",
    "    def __init__(self, values):\n",
    "        self.parent = None\n",
    "        self.InitVals(values)\n",
    "        self.CalcAttributes()\n",
    "        \n",
    "    def InitVals(self, values):\n",
    "        if inspect.isclass(values):\n",
    "            self.values = []\n",
    "            for subclass in values.__subclasses__():\n",
    "                self.values.append(subclass())\n",
    "        else:\n",
    "            if type(values) is Symbol:\n",
    "                self.values = values.values\n",
    "            elif type(values) is list:\n",
    "                self.values = values\n",
    "            else:\n",
    "                self.values = [values]\n",
    "        if len(self.values) == 1:\n",
    "            self._value = self.values[0]\n",
    "        else:\n",
    "            self._value = None\n",
    "        \n",
    "    def __repr__(self):\n",
    "        return str(self.val)\n",
    "    \n",
    "    def __getattr__(self, attr):\n",
    "        if attr == 'val':\n",
    "            if self._value:\n",
    "                return self._value\n",
    "            else:\n",
    "                if len(self.values) == 1:\n",
    "                    return self.values[0]\n",
    "                else:\n",
    "                    return self.values\n",
    "        raise AttributeError(\"{} object has no attribute {}\".format(self.__class__, attr))\n",
    "    \n",
    "    def CalcAttributes(self):\n",
    "        # TODO: drop deprecated attributes\n",
    "        attribute_values = defaultdict(list)\n",
    "        for value in self.values:\n",
    "            if type(value) in PRIMITIVE_TYPES:\n",
    "                continue\n",
    "            for key, val in AttributesDict(value).items():\n",
    "                if isinstance(val, Symbol):\n",
    "                    attribute_values[key].extend(val.values)\n",
    "                elif type(val) is list:\n",
    "                    attribute_values[key].extend(val)\n",
    "                else:\n",
    "                    attribute_values[key].append(val)\n",
    "        for key, vals in attribute_values.items():\n",
    "                # implies recursion!\n",
    "                symbol = Symbol(vals)\n",
    "                symbol.parent = self\n",
    "                symbol.attribute_name = key\n",
    "                setattr(self, key, symbol)\n",
    "    \n",
    "    def Observe(self):\n",
    "        if self._value:\n",
    "            return self._value\n",
    "        else:\n",
    "            return self.Collapse(None)\n",
    "    \n",
    "    def Collapse(self, symbol):\n",
    "        # TODO: reject if intersection is 0? some basic rejection \n",
    "        if symbol is None:\n",
    "            return self.Collapse(Symbol([random.choice(self.values)]))\n",
    "        if type(symbol) is not Symbol:\n",
    "            symbol = Symbol(symbol)\n",
    "\n",
    "        # adopt new values\n",
    "        self.InitVals(Subset(self, symbol))\n",
    "\n",
    "        # recalculate my attributes\n",
    "        self.CalcAttributes()\n",
    "\n",
    "        # restrict my values to only those whose attributes are also consistent with symbol\n",
    "        if self.parent is not None:\n",
    "            # self.parent.Collapse(self.parent)\n",
    "            self.parent.Restrict(self, self.attribute_name)\n",
    "\n",
    "        return self\n",
    "    \n",
    "    def Restrict(self, child, attribute_name):\n",
    "        print(self,'restricting',attribute_name,':',child)\n",
    "        def _attributes_match(value):\n",
    "            value_attributes = AttributesDict(value)\n",
    "            if attribute_name in value_attributes:\n",
    "                # v.p -> v.p ∩ child\n",
    "                value_attribute = value_attributes[attribute_name]\n",
    "                intersection = Subset(value_attribute, child)\n",
    "                if intersection is None:\n",
    "                    return False\n",
    "                else:\n",
    "                    # should this be a symbol?\n",
    "                    setattr(value, attribute_name, intersection)\n",
    "                    return True\n",
    "            else:\n",
    "                # child has not p\n",
    "                return False\n",
    "\n",
    "        new_vals = []\n",
    "        for value in self.values:\n",
    "            if _attributes_match(value):\n",
    "                new_vals.append(value)\n",
    "        if len(new_vals) == 0:\n",
    "            raise Exception('empty restriction!')\n",
    "        self.InitVals(new_vals)\n",
    "\n",
    "        if self.parent is not None:\n",
    "            self.parent.Restrict(self, self.attribute_name)\n",
    "\n",
    "def AttributesDict(obj):\n",
    "    filters = [\n",
    "        lambda key, value: key[0] != '_',\n",
    "        lambda key, value: not callable(value),\n",
    "        lambda key, value: key != 'parent' and key != 'values' and key != 'val'\n",
    "    ]\n",
    "    attributes = {i: obj.__getattribute__(i) for i in dir(obj) if i[0] != '_'}\n",
    "    for fn in filters:\n",
    "        attributes = {k: v for k, v in attributes.items() if fn(k, v)}\n",
    "    return attributes\n",
    "\n",
    "def Subset(value, target, depth=0):\n",
    "    '''Return the subset of value that spans target. If no\n",
    "    such subset exists, return None\n",
    "    '''\n",
    "\n",
    "    #######################\n",
    "    ## VALUE IS ITERABLE ##\n",
    "    #######################\n",
    "\n",
    "    if type(value) is Symbol:\n",
    "        return Symbol(Subset(value.values, target, depth=depth+1))\n",
    "\n",
    "    # TODO: explain why this works\n",
    "    if type(value) is list:\n",
    "        results = [Subset(element, target, depth=depth+1) for element in value]\n",
    "        results = [result for result in results if result is not None]\n",
    "        if len(results) == 0:\n",
    "            return None\n",
    "        if len(results) == 1:\n",
    "            return results[0]\n",
    "        return results\n",
    "    \n",
    "    ########################\n",
    "    ## TARGET IS ITERABLE ##\n",
    "    ########################\n",
    "\n",
    "    if type(target) is Symbol:\n",
    "        return Subset(value, target.values, depth=depth+1)\n",
    "\n",
    "    # TODO: explain why this works\n",
    "    if type(target) is list:\n",
    "        for element in target:\n",
    "            result = Subset(value, element, depth=depth+1)\n",
    "            if result is not None:\n",
    "                return result\n",
    "        return None\n",
    "    \n",
    "    ###################\n",
    "    # CONCRETE VALUES #\n",
    "    ###################\n",
    "\n",
    "    is_subset = False\n",
    "    if value == target:\n",
    "        is_subset = True\n",
    "    if type(value) not in PRIMITIVE_TYPES:\n",
    "        if type(value) == type(target):\n",
    "            is_subset = True\n",
    "        if type(target) in type(value).__subclasses__():\n",
    "            # TODO: (subclass)Value promotion\n",
    "            # just take all attributes and methods\n",
    "            is_subset = True\n",
    "\n",
    "    # print('\\t'*depth, is_subset)\n",
    "    if not is_subset:\n",
    "        return None\n",
    "    \n",
    "    return value"
   ]
  },
  {
   "cell_type": "code",
   "execution_count": 50,
   "metadata": {},
   "outputs": [],
   "source": [
    "class Q(object):\n",
    "    pass\n",
    "\n",
    "class Q1(Q):\n",
    "    pass\n",
    "\n",
    "class Q2(Q):\n",
    "    pass\n",
    "\n",
    "class Q3(Q):\n",
    "    pass\n",
    "\n",
    "class P(object):\n",
    "    pass\n",
    "\n",
    "class P1(P):\n",
    "    def __init__(self):\n",
    "        self.Q = Q1()\n",
    "\n",
    "class P2(P):\n",
    "    def __init__(self):\n",
    "        self.Q = Symbol([Q1(), Q2()])\n",
    "\n",
    "class P3(P):\n",
    "    def __init__(self):\n",
    "        self.Q = Symbol([Q2(), Q3()])\n",
    "\n",
    "\n",
    "class A(object):\n",
    "    pass\n",
    "\n",
    "class A1(A):\n",
    "    def __init__(self):\n",
    "        self.P = P1()\n",
    "\n",
    "class A2(A):\n",
    "    def __init__(self):\n",
    "        self.P = Symbol([P1(), P2()])\n",
    "\n",
    "class A3(A):\n",
    "    def __init__(self):\n",
    "        self.P = P3()"
   ]
  },
  {
   "cell_type": "code",
   "execution_count": 51,
   "metadata": {},
   "outputs": [],
   "source": [
    "a = Symbol(A)"
   ]
  },
  {
   "cell_type": "code",
   "execution_count": 52,
   "metadata": {},
   "outputs": [
    {
     "name": "stdout",
     "output_type": "stream",
     "text": [
      "[<__main__.P1 object at 0x10ec635f8>, <__main__.P1 object at 0x10ec63358>, <__main__.P2 object at 0x10ec63390>, <__main__.P3 object at 0x10ec63780>] restricting Q : [<__main__.Q2 object at 0x10ec63400>, <__main__.Q2 object at 0x10ec63668>]\n",
      "[<__main__.A1 object at 0x10ec63630>, <__main__.A2 object at 0x10ec636d8>, <__main__.A3 object at 0x10ec634a8>] restricting P : [<__main__.P2 object at 0x10ec63390>, <__main__.P3 object at 0x10ec63780>]\n"
     ]
    },
    {
     "data": {
      "text/plain": [
       "[<__main__.Q2 object at 0x10ec63400>, <__main__.Q2 object at 0x10ec63668>]"
      ]
     },
     "execution_count": 52,
     "metadata": {},
     "output_type": "execute_result"
    }
   ],
   "source": [
    "a.P.Q.Observe()"
   ]
  },
  {
   "cell_type": "code",
   "execution_count": 53,
   "metadata": {},
   "outputs": [
    {
     "data": {
      "text/plain": [
       "[<__main__.P2 object at 0x10ec63390>, <__main__.P3 object at 0x10ec63780>]"
      ]
     },
     "execution_count": 53,
     "metadata": {},
     "output_type": "execute_result"
    }
   ],
   "source": [
    "a.P"
   ]
  },
  {
   "cell_type": "code",
   "execution_count": 54,
   "metadata": {},
   "outputs": [
    {
     "data": {
      "text/plain": [
       "[<__main__.A2 object at 0x10ec636d8>, <__main__.A3 object at 0x10ec634a8>]"
      ]
     },
     "execution_count": 54,
     "metadata": {},
     "output_type": "execute_result"
    }
   ],
   "source": [
    "a"
   ]
  },
  {
   "cell_type": "code",
   "execution_count": 58,
   "metadata": {},
   "outputs": [
    {
     "data": {
      "text/plain": [
       "<__main__.Q2 at 0x10ec63400>"
      ]
     },
     "execution_count": 58,
     "metadata": {},
     "output_type": "execute_result"
    }
   ],
   "source": [
    "a.P.Q.values[0]"
   ]
  },
  {
   "cell_type": "code",
   "execution_count": null,
   "metadata": {},
   "outputs": [],
   "source": []
  }
 ],
 "metadata": {
  "kernelspec": {
   "display_name": "Python [conda env:anaconda3]",
   "language": "python",
   "name": "conda-env-anaconda3-py"
  },
  "language_info": {
   "codemirror_mode": {
    "name": "ipython",
    "version": 3
   },
   "file_extension": ".py",
   "mimetype": "text/x-python",
   "name": "python",
   "nbconvert_exporter": "python",
   "pygments_lexer": "ipython3",
   "version": "3.6.5"
  }
 },
 "nbformat": 4,
 "nbformat_minor": 2
}
