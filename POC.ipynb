{
 "cells": [
  {
   "cell_type": "code",
   "execution_count": 950,
   "metadata": {
    "collapsed": true
   },
   "outputs": [],
   "source": [
    "import inspect\n",
    "import random\n",
    "from weakref import WeakKeyDictionary"
   ]
  },
  {
   "cell_type": "code",
   "execution_count": 951,
   "metadata": {
    "collapsed": true
   },
   "outputs": [],
   "source": [
    "class Symbol(object):\n",
    "    def __init__(self, values):\n",
    "        self.parent = None\n",
    "        self.InitVals(values)\n",
    "        \n",
    "    def InitVals(self, values):\n",
    "        # set all of my potential values\n",
    "        \n",
    "        # allow synyax shorthand \n",
    "        # symbol = Symbol(Fruit) = Symbol([Apple, Pear])\n",
    "        if inspect.isclass(values):\n",
    "            self.values = []\n",
    "            for subclass in values.__subclasses__():\n",
    "                self.values.append(subclass())\n",
    "        else:\n",
    "            # TODO: ensure iterable\n",
    "            self.values = values\n",
    "        \n",
    "        # initialize state to superposition\n",
    "        self._value = None\n",
    "        \n",
    "        # expose all of my possible values' attributes as if they were my own\n",
    "        self.CalcAttributes()\n",
    "        \n",
    "    def __repr__(self):\n",
    "        return str(self.val)\n",
    "    \n",
    "    def __getattr__(self, attr):\n",
    "        \n",
    "        # allow self.val to inspect without collapsing my value\n",
    "        if attr == 'val':\n",
    "            if self._value:\n",
    "                return self._value\n",
    "            else:\n",
    "                \n",
    "                if len(self.values) == 1:\n",
    "                    return self.values[0]\n",
    "                else:\n",
    "                    return self.values\n",
    "        raise AttributeError(\"{} object has no attribute {}\".format(self.__class__, attr))\n",
    "    \n",
    "    def Observe(self):\n",
    "        if self._value:\n",
    "            return self._value\n",
    "        else:\n",
    "            return self.Collapse()\n",
    "    \n",
    "    def Collapse(self, new_value=None):\n",
    "        \n",
    "        # set value\n",
    "        if new_value:\n",
    "            \n",
    "            # TODO: restrict to all values consistent with new_value\n",
    "            # if new_value is array\n",
    "            # if new_value is symbol\n",
    "            # if new_value is object / type\n",
    "            # if new_value is primitive\n",
    "            \n",
    "            # we do not need to fully collapse\n",
    "            \n",
    "            self._value = new_value\n",
    "        else:\n",
    "            self._value = random.choice(self.values)\n",
    "            # now I only have one value\n",
    "            self.values = [self._value]\n",
    "        \n",
    "        # propagate the change upwards: everything above me must be consistent\n",
    "        # with me having this value.\n",
    "        if self.parent:\n",
    "            self.parent.Restrict(self, self._value)\n",
    "\n",
    "        # update my attributes\n",
    "        self.CalcAttributes()\n",
    "        \n",
    "        return self._value\n",
    "    \n",
    "    def CalcAttributes(self):\n",
    "        \n",
    "        # expose the attributes of all my potential values\n",
    "        attribute_values = {}\n",
    "        for obj in self.values:\n",
    "            \n",
    "            # list all of the object's public values\n",
    "            attributes = [i for i in dir(obj) if i[0] != '_' and not callable(getattr(obj, i))]\n",
    "            \n",
    "            # add all of obj.attribute to the set of possible values\n",
    "            for attribute in attributes:\n",
    "                \n",
    "                # initialize dict\n",
    "                if attribute not in attribute_values:\n",
    "                    attribute_values[attribute] = []\n",
    "                \n",
    "                # get obj.val\n",
    "                val = obj.__getattribute__(attribute)\n",
    "                \n",
    "                # if obj.val is a symbol, i must be consistent with all of its values\n",
    "                if isinstance(val, Symbol):\n",
    "                    attribute_values[attribute].extend(val.values)\n",
    "                else:\n",
    "                    # TODO: check if iterable\n",
    "                    attribute_values[attribute].append(val)\n",
    "        \n",
    "        # add these attributes to myself.\n",
    "        for key, vals in attribute_values.items():\n",
    "                symbol = Symbol(vals)\n",
    "                symbol.parent = self\n",
    "                \n",
    "                # TODO: check if i already have the attribute first\n",
    "                setattr(self, key, symbol)\n",
    "\n",
    "    def Restrict(self, child, newval):\n",
    "        # change content of values to be consistent with new value for child\n",
    "        # Restriction is:\n",
    "        # now that we know the specific value of this property, which of my values are consistent with that?\n",
    "        \n",
    "        # determine the attribute\n",
    "        for key, val in self.__dict__.items():\n",
    "            if val == child:\n",
    "                attr = key\n",
    "                break\n",
    "        \n",
    "        # check each of my potential values to see if they are consistent with having\n",
    "        # obj.attr = newval\n",
    "        new_values = []\n",
    "        for obj in self.values:\n",
    "            \n",
    "            # if the object doesnt even have this attribute, forget it\n",
    "            if not hasattr(obj, attr):\n",
    "                continue\n",
    "            \n",
    "            # get the object's obj.attr\n",
    "            obj_attr_val =  getattr(obj, attr)\n",
    "            \n",
    "            # if is obj.attr is symbol, how can we make sure it is consistent\n",
    "            # with obj.attr = newval?\n",
    "            \n",
    "            # if newval is symbol\n",
    "            #    if obj.attr is \n",
    "            # if newval is array\n",
    "            # if newval is primitive\n",
    "            # \n",
    "            \n",
    "            if isinstance(obj_attr_val, Symbol):\n",
    "                \n",
    "                # obj.attr = Symbol ∩ newval\n",
    "                # this must \n",
    "                if newval in obj_attr_val.values:\n",
    "                    obj_attr_val.Collapse(new_value=newval)\n",
    "                    new_values.append(obj)\n",
    "                    continue\n",
    "            else:\n",
    "                # if obj.attr is not symbol, check that obj.attr is consistent with newval\n",
    "                \n",
    "                if obj_attr_val == newval:\n",
    "                    new_values.append(obj)\n",
    "                    continue\n",
    "        \n",
    "        # big problem here if true\n",
    "        if len(new_values) == 0:\n",
    "            raise Exception('empty restriction!')\n",
    "            \n",
    "        self.values = new_values\n",
    "        \n",
    "        # if we've restricted to a single value, might as well collapse now.\n",
    "        if len(new_values) == 1:\n",
    "            self.Collapse()\n",
    "            "
   ]
  },
  {
   "cell_type": "code",
   "execution_count": 952,
   "metadata": {
    "collapsed": true
   },
   "outputs": [],
   "source": [
    "class Symbolic(object):\n",
    "    def __init__(self):\n",
    "        self.symbols = WeakKeyDictionary()\n",
    " \n",
    "    def __get__(self, instance_obj, objtype):\n",
    "#         return self.symbols[instance_obj].Ref()\n",
    "        return self.symbols[instance_obj]\n",
    " \n",
    "    def __set__(self, instance, values):\n",
    "        self.symbols[instance] = Symbol(values)\n",
    " \n",
    "    def __delete__(self, instance):\n",
    "        del self.symbols[instance]\n",
    "\n",
    "        \n",
    "class Fruit(object):\n",
    "    color = Symbolic()\n",
    "    def __init__(self, name):\n",
    "        self.name = name\n",
    "    def method(self):\n",
    "        print('method man')\n",
    "\n",
    "class Apple(Fruit):\n",
    "    def __init__(self):\n",
    "        self.name = 'Apple'\n",
    "        self.color = ['red', 'green']\n",
    "\n",
    "class Pear(Fruit):\n",
    "    def __init__(self):\n",
    "        self.name = 'Pear'\n",
    "        self.color = ['red', 'yellow']\n",
    "\n",
    "        \n",
    "class State(object):\n",
    "    fruit = Symbolic()\n",
    "    def __init__(self):\n",
    "        self.fruit = Fruit"
   ]
  },
  {
   "cell_type": "code",
   "execution_count": 1001,
   "metadata": {},
   "outputs": [],
   "source": [
    "state = State()"
   ]
  },
  {
   "cell_type": "code",
   "execution_count": 1004,
   "metadata": {},
   "outputs": [
    {
     "data": {
      "text/plain": [
       "<__main__.Pear at 0x104e38a58>"
      ]
     },
     "execution_count": 1004,
     "metadata": {},
     "output_type": "execute_result"
    }
   ],
   "source": [
    "state.fruit.Observe()"
   ]
  },
  {
   "cell_type": "code",
   "execution_count": 1005,
   "metadata": {},
   "outputs": [
    {
     "data": {
      "text/plain": [
       "['red', 'yellow']"
      ]
     },
     "execution_count": 1005,
     "metadata": {},
     "output_type": "execute_result"
    }
   ],
   "source": [
    "state.fruit.color"
   ]
  },
  {
   "cell_type": "markdown",
   "metadata": {},
   "source": [
    "# Factories\n",
    "\n",
    "Ensuring / requiring / generating:\n",
    "\n",
    "\"we need a bad guy in this scene. Make it happen\"\n",
    "\n",
    "In the present system, this means that if there is an uncollapsed Person in the scene, I can collapse that person to an Attacker.\n",
    "Attacker knows it wants to attack player, so it moves in to strike.\n",
    "Once the player sees the Attacker, it is observed, and collapses into Ninja.\n",
    "\n",
    "What about if there is no Person or uncollapsed Person in the scene?\n",
    "\n",
    "The scene also defines various ways that objects can be created. Object factories exist:\n",
    "A window is an object factory for a message (note on brick), people (climb in window)\n",
    "\n",
    "A computer is an object factory for a message (email, video hack)\n",
    "\n",
    "A door is an object factory for people\n",
    "\n",
    "A container is an object factory for items\n",
    "\n",
    "---\n",
    "\n",
    "Once the director issues a directive, it is up to the state to enact it. \n",
    "First the state searches all objects in superposition to see if it can collapse an object to the required one.\n",
    "If not, then the state searches its available factories, and finds if any factory provides a type that is superclass of the requested item."
   ]
  },
  {
   "cell_type": "code",
   "execution_count": 896,
   "metadata": {},
   "outputs": [
    {
     "data": {
      "text/plain": [
       "<__main__.Apple object at 0x104e00e80>"
      ]
     },
     "execution_count": 896,
     "metadata": {},
     "output_type": "execute_result"
    }
   ],
   "source": [
    "state.fruit"
   ]
  },
  {
   "cell_type": "code",
   "execution_count": null,
   "metadata": {
    "collapsed": true
   },
   "outputs": [],
   "source": []
  }
 ],
 "metadata": {
  "kernelspec": {
   "display_name": "Python [conda env:anaconda3]",
   "language": "python",
   "name": "conda-env-anaconda3-py"
  },
  "language_info": {
   "codemirror_mode": {
    "name": "ipython",
    "version": 3
   },
   "file_extension": ".py",
   "mimetype": "text/x-python",
   "name": "python",
   "nbconvert_exporter": "python",
   "pygments_lexer": "ipython3",
   "version": "3.6.5"
  }
 },
 "nbformat": 4,
 "nbformat_minor": 2
}
