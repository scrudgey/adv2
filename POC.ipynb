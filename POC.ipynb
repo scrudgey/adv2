{
 "cells": [
  {
   "cell_type": "code",
   "execution_count": 2,
   "metadata": {},
   "outputs": [],
   "source": [
    "import inspect\n",
    "import random\n",
    "from weakref import WeakKeyDictionary"
   ]
  },
  {
   "cell_type": "code",
   "execution_count": 315,
   "metadata": {},
   "outputs": [],
   "source": [
    "class Symbol(object):\n",
    "    def __init__(self, values):\n",
    "        self.parent = None\n",
    "        self.InitVals(values)\n",
    "        \n",
    "    def InitVals(self, values):\n",
    "        if inspect.isclass(values):\n",
    "            self.values = []\n",
    "            for subclass in values.__subclasses__():\n",
    "                self.values.append(subclass())\n",
    "        else:\n",
    "            self.values = values\n",
    "        self._value = None\n",
    "        self.CalcAttributes()\n",
    "        \n",
    "    def __repr__(self):\n",
    "        return str(self.val)\n",
    "    \n",
    "    def __getattr__(self, attr):\n",
    "        if attr == 'val':\n",
    "            if self._value:\n",
    "                return self._value\n",
    "            else:\n",
    "                if len(self.values) == 1:\n",
    "                    return self.values[0]\n",
    "                else:\n",
    "                    return self.values\n",
    "        raise AttributeError\n",
    "    \n",
    "    def Ref(self):\n",
    "        if self._value:\n",
    "            return self._value\n",
    "        else:\n",
    "            return self.Collapse()\n",
    "    \n",
    "    def Collapse(self):\n",
    "        self._value = random.choice(self.values)\n",
    "        \n",
    "        # propagate upwards\n",
    "        if self.parent:\n",
    "            self.parent.Restrict(self, self._value)\n",
    "\n",
    "        # update my attributes\n",
    "        self.CalcAttributes()\n",
    "        return self._value\n",
    "    \n",
    "    def CalcAttributes(self):\n",
    "        asets = {}\n",
    "        for obj in self.values:\n",
    "            attrs = [i for i in dir(obj) if i[0] != '_' and not callable(getattr(obj, i))]\n",
    "            for attr in attrs:\n",
    "                if attr not in asets:\n",
    "                    asets[attr] = []\n",
    "                val = obj.__getattribute__(attr)\n",
    "                if isinstance(val, Symbol):\n",
    "                    asets[attr].extend(val.values)\n",
    "                else:\n",
    "                    asets[attr].append(val)\n",
    "        for key, vals in asets.items():\n",
    "                symbol = Symbol(vals)\n",
    "                symbol.parent = self\n",
    "                setattr(self, key, symbol)\n",
    "\n",
    "    def Restrict(self, child, newval):\n",
    "        # change content of values to be consistent with new value for child\n",
    "        for key, val in self.__dict__.items():\n",
    "            if val == child:\n",
    "                attr = key\n",
    "                break\n",
    "        new_values = []\n",
    "        for obj in self.values:\n",
    "            # if not has attr, next\n",
    "            if not hasattr(obj, attr):\n",
    "                continue\n",
    "            \n",
    "            objval =  getattr(obj, attr)\n",
    "            \n",
    "            # if is obj.attr is symbol, check that obj.attr.values contains newattr\n",
    "            if isinstance(objval, Symbol):\n",
    "                if newval in objval.values:\n",
    "                    # potential problem with instances vs classes?\n",
    "                    new_values.append(obj)\n",
    "                    continue\n",
    "            else:\n",
    "                # if obj.attr is not symbol, check that obj.attr is newval\n",
    "                if objval == newval:\n",
    "                    new_values.append(obj)\n",
    "                    continue\n",
    "        if len(new_values) == 0:\n",
    "            raise Exception('empty restriction!')\n",
    "        self.values = new_values\n",
    "        if len(new_values) == 1:\n",
    "            self.Collapse()\n",
    "            "
   ]
  },
  {
   "cell_type": "code",
   "execution_count": 316,
   "metadata": {},
   "outputs": [],
   "source": [
    "class Symbolic(object):\n",
    "    def __init__(self):\n",
    "        self.symbols = WeakKeyDictionary()\n",
    " \n",
    "    def __get__(self, instance_obj, objtype):\n",
    "#         return self.symbols[instance_obj].Ref()\n",
    "        return self.symbols[instance_obj]\n",
    " \n",
    "    def __set__(self, instance, values):\n",
    "        self.symbols[instance] = Symbol(values)\n",
    " \n",
    "    def __delete__(self, instance):\n",
    "        del self.symbols[instance]\n",
    "\n",
    "        \n",
    "class Fruit(object):\n",
    "    color = Symbolic()\n",
    "    def __init__(self, name):\n",
    "        self.name = name\n",
    "    def method(self):\n",
    "        print('method man')\n",
    "\n",
    "class Apple(Fruit):\n",
    "    def __init__(self):\n",
    "        self.name = 'Apple'\n",
    "        self.color = ['red', 'green']\n",
    "\n",
    "class Pear(Fruit):\n",
    "    def __init__(self):\n",
    "        self.name = 'Pear'\n",
    "        self.color = ['red', 'yellow']\n",
    "\n",
    "        \n",
    "class State(object):\n",
    "    fruit = Symbolic()\n",
    "    def __init__(self):\n",
    "        self.fruit = Fruit"
   ]
  },
  {
   "cell_type": "code",
   "execution_count": 331,
   "metadata": {},
   "outputs": [
    {
     "name": "stdout",
     "output_type": "stream",
     "text": [
      "[<__main__.Apple object at 0x110734748>, <__main__.Pear object at 0x110734b38>]\n",
      "['red', 'green', 'red', 'yellow']\n"
     ]
    },
    {
     "data": {
      "text/plain": [
       "'red'"
      ]
     },
     "execution_count": 331,
     "metadata": {},
     "output_type": "execute_result"
    }
   ],
   "source": [
    "state = State()\n",
    "print(state.fruit)\n",
    "print(state.fruit.color)\n",
    "\n",
    "state.fruit.color.Ref()"
   ]
  },
  {
   "cell_type": "code",
   "execution_count": 332,
   "metadata": {},
   "outputs": [
    {
     "data": {
      "text/plain": [
       "['Apple', 'Pear']"
      ]
     },
     "execution_count": 332,
     "metadata": {},
     "output_type": "execute_result"
    }
   ],
   "source": [
    "state.fruit.name"
   ]
  },
  {
   "cell_type": "markdown",
   "metadata": {},
   "source": [
    "# Questions\n",
    "\n",
    "1. how to naturally handle references to symbols\n",
    "2. do nested symbols work?\n",
    "3. type vs. instance in restriction\n",
    "    symbol.values are instances\n",
    "        restrict self.attr to value\n",
    "        if values[1].attr is value, and symbol.values[2].attr is an instance of the same class as value,\n",
    "        then we should allow either?\n",
    "        "
   ]
  },
  {
   "cell_type": "code",
   "execution_count": null,
   "metadata": {},
   "outputs": [],
   "source": []
  }
 ],
 "metadata": {
  "kernelspec": {
   "display_name": "Python [conda env:anaconda3]",
   "language": "python",
   "name": "conda-env-anaconda3-py"
  },
  "language_info": {
   "codemirror_mode": {
    "name": "ipython",
    "version": 3
   },
   "file_extension": ".py",
   "mimetype": "text/x-python",
   "name": "python",
   "nbconvert_exporter": "python",
   "pygments_lexer": "ipython3",
   "version": "3.6.5"
  }
 },
 "nbformat": 4,
 "nbformat_minor": 2
}
