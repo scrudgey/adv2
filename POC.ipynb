{
 "cells": [
  {
   "cell_type": "code",
   "execution_count": 2,
   "metadata": {},
   "outputs": [],
   "source": [
    "import inspect\n",
    "import random\n",
    "from weakref import WeakKeyDictionary"
   ]
  },
  {
   "cell_type": "code",
   "execution_count": 239,
   "metadata": {},
   "outputs": [],
   "source": [
    "class Symbol(object):\n",
    "    def __init__(self, values):\n",
    "        self.parent = None\n",
    "        self.InitVals(values)\n",
    "        \n",
    "    def InitVals(self, values):\n",
    "        if inspect.isclass(values):\n",
    "            self.values = []\n",
    "            for subclass in values.__subclasses__():\n",
    "                self.values.append(subclass())\n",
    "        else:\n",
    "            self.values = values\n",
    "        self._value = None\n",
    "        # update my attributes\n",
    "        self.CalcAttributes()\n",
    "    \n",
    "    def __getattr__(self, attr):\n",
    "        if attr == 'val':\n",
    "            if self._value:\n",
    "                return self._value\n",
    "            else:\n",
    "                if len(self.values) == 1:\n",
    "                    return self.values[0]\n",
    "                else:\n",
    "                    return self.values\n",
    "        raise AttributeError\n",
    "    \n",
    "    def Ref(self):\n",
    "        if self._value:\n",
    "            return self._value\n",
    "        else:\n",
    "            return self.Collapse()\n",
    "    \n",
    "    def Collapse(self):\n",
    "        self._value = random.choice(self.values)\n",
    "        # propagate upwards\n",
    "        if self.parent:\n",
    "            self.parent.Restrict(self, self._value)\n",
    "            \n",
    "        # update my attributes?\n",
    "        self.CalcAttributes()\n",
    "        return self._value\n",
    "    \n",
    "    def CalcAttributes(self):\n",
    "        asets = {}\n",
    "        for obj in self.values:\n",
    "            attrs = [i for i in dir(obj) if i[0] != '_' and not callable(getattr(obj, i))]\n",
    "#             print(attrs)\n",
    "            for attr in attrs:\n",
    "                if attr not in asets:\n",
    "                    asets[attr] = []\n",
    "                val = obj.__getattribute__(attr)\n",
    "                if isinstance(val, Symbol):\n",
    "                    asets[attr].extend(val.values)\n",
    "                else:\n",
    "                    asets[attr].append(val)\n",
    "        for key, vals in asets.items():\n",
    "#             if len(vals) == 1:\n",
    "#                 setattr(self, key, vals[0])\n",
    "#             else:\n",
    "                symbol = Symbol(vals)\n",
    "                symbol.parent = self\n",
    "                setattr(self, key, symbol)\n",
    "\n",
    "    def Restrict(self, child, newval):\n",
    "        # change content of values to be consistent with new value for child\n",
    "        print(str(self)+\" restricting\")\n",
    "        for key, val in self.__dict__.items():\n",
    "            if val == child:\n",
    "                print(key, ' = ', newval)\n",
    "                attr = key\n",
    "                break\n",
    "        new_values = []\n",
    "        for obj in self.values:\n",
    "            print('checking object '+str(obj))\n",
    "            # if not has attr, next\n",
    "            if not hasattr(obj, attr):\n",
    "                continue\n",
    "            \n",
    "            # if is obj.attr is symbol, check that obj.attr.values contains newattr\n",
    "            if isinstance(obj, Symbol):\n",
    "                if newval in obj.values:\n",
    "                    # potential problem with instances vs classes\n",
    "                    new_values.append(obj)\n",
    "                    continue\n",
    "            else:\n",
    "                # if obj.attr is not symbol, check that obj.attr is newval\n",
    "                if getattr(obj, attr) == newval:\n",
    "                    new_values.append(obj)\n",
    "                    continue\n",
    "        print(new_values)\n",
    "        if len(new_values) == 0:\n",
    "            raise Exception('empty restriction!')\n",
    "        self.values = new_values\n",
    "        if len(new_values) == 1:\n",
    "            print('restriction collapse')\n",
    "            self.Collapse()\n",
    "            "
   ]
  },
  {
   "cell_type": "code",
   "execution_count": 240,
   "metadata": {},
   "outputs": [],
   "source": [
    "class Symbolic(object):\n",
    "    def __init__(self):\n",
    "        self.symbols = WeakKeyDictionary()\n",
    " \n",
    "    def __get__(self, instance_obj, objtype):\n",
    "#         return self.symbols[instance_obj].Ref()\n",
    "        return self.symbols[instance_obj]\n",
    " \n",
    "    def __set__(self, instance, values):\n",
    "        self.symbols[instance] = Symbol(values)\n",
    " \n",
    "    def __delete__(self, instance):\n",
    "        del self.symbols[instance]\n",
    "\n",
    "        \n",
    "class Fruit(object):\n",
    "    color = Symbolic()\n",
    "    def __init__(self, name):\n",
    "        self.name = name\n",
    "    def method(self):\n",
    "        print('method man')\n",
    "\n",
    "class Apple(Fruit):\n",
    "    def __init__(self):\n",
    "        self.name = 'Apple'\n",
    "        self.color = ['red', 'green']\n",
    "\n",
    "class Pear(Fruit):\n",
    "    def __init__(self):\n",
    "        self.name = 'Pear'\n",
    "        self.color = ['red', 'yellow']\n",
    "\n",
    "        \n",
    "class State(object):\n",
    "    fruit = Symbolic()\n",
    "    def __init__(self):\n",
    "        self.fruit = Fruit"
   ]
  },
  {
   "cell_type": "code",
   "execution_count": 241,
   "metadata": {},
   "outputs": [
    {
     "name": "stdout",
     "output_type": "stream",
     "text": [
      "<__main__.Symbol object at 0x1105e99e8>\n",
      "['red', 'green', 'red', 'yellow']\n"
     ]
    }
   ],
   "source": [
    "state = State()\n",
    "print(state.fruit)\n",
    "print(state.fruit.color.val)"
   ]
  },
  {
   "cell_type": "code",
   "execution_count": 242,
   "metadata": {},
   "outputs": [
    {
     "name": "stdout",
     "output_type": "stream",
     "text": [
      "<__main__.Symbol object at 0x1105e99e8> restricting\n",
      "color  =  green\n",
      "checking object <__main__.Apple object at 0x1105e9ef0>\n",
      "checking object <__main__.Pear object at 0x1105e9b00>\n",
      "[]\n"
     ]
    },
    {
     "ename": "Exception",
     "evalue": "empty restriction!",
     "output_type": "error",
     "traceback": [
      "\u001b[0;31m-----------------------------------------------\u001b[0m",
      "\u001b[0;31mException\u001b[0m     Traceback (most recent call last)",
      "\u001b[0;32m<ipython-input-242-c9401576afe6>\u001b[0m in \u001b[0;36m<module>\u001b[0;34m()\u001b[0m\n\u001b[0;32m----> 1\u001b[0;31m \u001b[0mstate\u001b[0m\u001b[0;34m.\u001b[0m\u001b[0mfruit\u001b[0m\u001b[0;34m.\u001b[0m\u001b[0mcolor\u001b[0m\u001b[0;34m.\u001b[0m\u001b[0mRef\u001b[0m\u001b[0;34m(\u001b[0m\u001b[0;34m)\u001b[0m\u001b[0;34m\u001b[0m\u001b[0m\n\u001b[0m",
      "\u001b[0;32m<ipython-input-239-643cb3bc3079>\u001b[0m in \u001b[0;36mRef\u001b[0;34m(self)\u001b[0m\n\u001b[1;32m     30\u001b[0m             \u001b[0;32mreturn\u001b[0m \u001b[0mself\u001b[0m\u001b[0;34m.\u001b[0m\u001b[0m_value\u001b[0m\u001b[0;34m\u001b[0m\u001b[0m\n\u001b[1;32m     31\u001b[0m         \u001b[0;32melse\u001b[0m\u001b[0;34m:\u001b[0m\u001b[0;34m\u001b[0m\u001b[0m\n\u001b[0;32m---> 32\u001b[0;31m             \u001b[0;32mreturn\u001b[0m \u001b[0mself\u001b[0m\u001b[0;34m.\u001b[0m\u001b[0mCollapse\u001b[0m\u001b[0;34m(\u001b[0m\u001b[0;34m)\u001b[0m\u001b[0;34m\u001b[0m\u001b[0m\n\u001b[0m\u001b[1;32m     33\u001b[0m \u001b[0;34m\u001b[0m\u001b[0m\n\u001b[1;32m     34\u001b[0m     \u001b[0;32mdef\u001b[0m \u001b[0mCollapse\u001b[0m\u001b[0;34m(\u001b[0m\u001b[0mself\u001b[0m\u001b[0;34m)\u001b[0m\u001b[0;34m:\u001b[0m\u001b[0;34m\u001b[0m\u001b[0m\n",
      "\u001b[0;32m<ipython-input-239-643cb3bc3079>\u001b[0m in \u001b[0;36mCollapse\u001b[0;34m(self)\u001b[0m\n\u001b[1;32m     36\u001b[0m         \u001b[0;31m# propagate upwards\u001b[0m\u001b[0;34m\u001b[0m\u001b[0;34m\u001b[0m\u001b[0m\n\u001b[1;32m     37\u001b[0m         \u001b[0;32mif\u001b[0m \u001b[0mself\u001b[0m\u001b[0;34m.\u001b[0m\u001b[0mparent\u001b[0m\u001b[0;34m:\u001b[0m\u001b[0;34m\u001b[0m\u001b[0m\n\u001b[0;32m---> 38\u001b[0;31m             \u001b[0mself\u001b[0m\u001b[0;34m.\u001b[0m\u001b[0mparent\u001b[0m\u001b[0;34m.\u001b[0m\u001b[0mRestrict\u001b[0m\u001b[0;34m(\u001b[0m\u001b[0mself\u001b[0m\u001b[0;34m,\u001b[0m \u001b[0mself\u001b[0m\u001b[0;34m.\u001b[0m\u001b[0m_value\u001b[0m\u001b[0;34m)\u001b[0m\u001b[0;34m\u001b[0m\u001b[0m\n\u001b[0m\u001b[1;32m     39\u001b[0m \u001b[0;34m\u001b[0m\u001b[0m\n\u001b[1;32m     40\u001b[0m         \u001b[0;31m# update my attributes?\u001b[0m\u001b[0;34m\u001b[0m\u001b[0;34m\u001b[0m\u001b[0m\n",
      "\u001b[0;32m<ipython-input-239-643cb3bc3079>\u001b[0m in \u001b[0;36mRestrict\u001b[0;34m(self, child, newval)\u001b[0m\n\u001b[1;32m     91\u001b[0m         \u001b[0mprint\u001b[0m\u001b[0;34m(\u001b[0m\u001b[0mnew_values\u001b[0m\u001b[0;34m)\u001b[0m\u001b[0;34m\u001b[0m\u001b[0m\n\u001b[1;32m     92\u001b[0m         \u001b[0;32mif\u001b[0m \u001b[0mlen\u001b[0m\u001b[0;34m(\u001b[0m\u001b[0mnew_values\u001b[0m\u001b[0;34m)\u001b[0m \u001b[0;34m==\u001b[0m \u001b[0;36m0\u001b[0m\u001b[0;34m:\u001b[0m\u001b[0;34m\u001b[0m\u001b[0m\n\u001b[0;32m---> 93\u001b[0;31m             \u001b[0;32mraise\u001b[0m \u001b[0mException\u001b[0m\u001b[0;34m(\u001b[0m\u001b[0;34m'empty restriction!'\u001b[0m\u001b[0;34m)\u001b[0m\u001b[0;34m\u001b[0m\u001b[0m\n\u001b[0m\u001b[1;32m     94\u001b[0m         \u001b[0mself\u001b[0m\u001b[0;34m.\u001b[0m\u001b[0mvalues\u001b[0m \u001b[0;34m=\u001b[0m \u001b[0mnew_values\u001b[0m\u001b[0;34m\u001b[0m\u001b[0m\n\u001b[1;32m     95\u001b[0m         \u001b[0;32mif\u001b[0m \u001b[0mlen\u001b[0m\u001b[0;34m(\u001b[0m\u001b[0mnew_values\u001b[0m\u001b[0;34m)\u001b[0m \u001b[0;34m==\u001b[0m \u001b[0;36m1\u001b[0m\u001b[0;34m:\u001b[0m\u001b[0;34m\u001b[0m\u001b[0m\n",
      "\u001b[0;31mException\u001b[0m: empty restriction!"
     ]
    }
   ],
   "source": [
    "state.fruit.color.Ref()"
   ]
  },
  {
   "cell_type": "code",
   "execution_count": 246,
   "metadata": {},
   "outputs": [],
   "source": [
    "x = state.fruit.values[0]"
   ]
  },
  {
   "cell_type": "code",
   "execution_count": 248,
   "metadata": {},
   "outputs": [
    {
     "data": {
      "text/plain": [
       "True"
      ]
     },
     "execution_count": 248,
     "metadata": {},
     "output_type": "execute_result"
    }
   ],
   "source": [
    "hasattr(x, 'color')"
   ]
  },
  {
   "cell_type": "code",
   "execution_count": 249,
   "metadata": {},
   "outputs": [
    {
     "data": {
      "text/plain": [
       "<__main__.Symbol at 0x1105e9c18>"
      ]
     },
     "execution_count": 249,
     "metadata": {},
     "output_type": "execute_result"
    }
   ],
   "source": [
    "getattr(x, 'color')"
   ]
  },
  {
   "cell_type": "code",
   "execution_count": null,
   "metadata": {},
   "outputs": [],
   "source": []
  }
 ],
 "metadata": {
  "kernelspec": {
   "display_name": "Python [conda env:anaconda3]",
   "language": "python",
   "name": "conda-env-anaconda3-py"
  },
  "language_info": {
   "codemirror_mode": {
    "name": "ipython",
    "version": 3
   },
   "file_extension": ".py",
   "mimetype": "text/x-python",
   "name": "python",
   "nbconvert_exporter": "python",
   "pygments_lexer": "ipython3",
   "version": "3.6.5"
  }
 },
 "nbformat": 4,
 "nbformat_minor": 2
}
