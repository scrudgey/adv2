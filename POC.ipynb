{
 "cells": [
  {
   "cell_type": "code",
   "execution_count": 877,
   "metadata": {
    "collapsed": true
   },
   "outputs": [],
   "source": [
    "import inspect\n",
    "import random\n",
    "from weakref import WeakKeyDictionary"
   ]
  },
  {
   "cell_type": "code",
   "execution_count": 936,
   "metadata": {
    "collapsed": true
   },
   "outputs": [],
   "source": [
    "class Symbol(object):\n",
    "    def __init__(self, values):\n",
    "        self.parent = None\n",
    "        self.InitVals(values)\n",
    "        \n",
    "    def InitVals(self, values):\n",
    "        # set all of my potential values\n",
    "        \n",
    "        # allow synyax shorthand \n",
    "        # symbol = Symbol(Fruit) = Symbol([Apple, Pear])\n",
    "        if inspect.isclass(values):\n",
    "            self.values = []\n",
    "            for subclass in values.__subclasses__():\n",
    "                self.values.append(subclass())\n",
    "        else:\n",
    "            # TODO: ensure iterable\n",
    "            self.values = values\n",
    "        \n",
    "        # initialize state to superposition\n",
    "        self._value = None\n",
    "        \n",
    "        # expose all of my possible values' attributes as if they were my own\n",
    "        self.CalcAttributes()\n",
    "        \n",
    "    def __repr__(self):\n",
    "        return str(self.val)\n",
    "    \n",
    "    def __getattr__(self, attr):\n",
    "        \n",
    "        # allow self.val to inspect without collapsing my value\n",
    "        if attr == 'val':\n",
    "            if self._value:\n",
    "                return self._value\n",
    "            else:\n",
    "                \n",
    "                if len(self.values) == 1:\n",
    "                    return self.values[0]\n",
    "                else:\n",
    "                    return self.values\n",
    "        raise AttributeError(\"{} object has no attribute {}\".format(self.__class__, attr))\n",
    "    \n",
    "    def Observe(self):\n",
    "        if self._value:\n",
    "            return self._value\n",
    "        else:\n",
    "            return self.Collapse()\n",
    "    \n",
    "    def Collapse(self, new_value=None):\n",
    "        \n",
    "        # set value\n",
    "        if new_value:\n",
    "            \n",
    "            # TODO: restrict to all values consistent with new_value\n",
    "            self._value = new_value\n",
    "        else:\n",
    "            self._value = random.choice(self.values)\n",
    "        \n",
    "        # now I only have one value\n",
    "        self.values = [self._value]\n",
    "        \n",
    "        # propagate the change upwards: everything above me must be consistent\n",
    "        # with me having this value.\n",
    "        if self.parent:\n",
    "            self.parent.Restrict(self, self._value)\n",
    "\n",
    "        # update my attributes\n",
    "        self.CalcAttributes()\n",
    "        \n",
    "        return self._value\n",
    "    \n",
    "    def CalcAttributes(self):\n",
    "        \n",
    "        # expose the attributes of all my potential values\n",
    "        attribute_values = {}\n",
    "        for obj in self.values:\n",
    "            \n",
    "            # list all of the object's public values\n",
    "            attributes = [i for i in dir(obj) if i[0] != '_' and not callable(getattr(obj, i))]\n",
    "            \n",
    "            # add all of obj.attribute to the set of possible values\n",
    "            for attribute in attributes:\n",
    "                \n",
    "                # initialize dict\n",
    "                if attribute not in attribute_values:\n",
    "                    attribute_values[attribute] = []\n",
    "                \n",
    "                # get obj.val\n",
    "                val = obj.__getattribute__(attribute)\n",
    "                \n",
    "                # if obj.val is a symbol, i must be consistent with all of its values\n",
    "                if isinstance(val, Symbol):\n",
    "                    attribute_values[attribute].extend(val.values)\n",
    "                else:\n",
    "                    # TODO: check if iterable\n",
    "                    attribute_values[attribute].append(val)\n",
    "        \n",
    "        # add these attributes to myself.\n",
    "        for key, vals in attribute_values.items():\n",
    "                symbol = Symbol(vals)\n",
    "                symbol.parent = self\n",
    "                \n",
    "                # TODO: check if i already have the attribute first\n",
    "                setattr(self, key, symbol)\n",
    "\n",
    "    def Restrict(self, child, newval):\n",
    "        # change content of values to be consistent with new value for child\n",
    "        # Restriction is:\n",
    "        # now that we know the specific value of this property, which of my values are consistent with that?\n",
    "        \n",
    "        # determine the attribute\n",
    "        for key, val in self.__dict__.items():\n",
    "            if val == child:\n",
    "                attr = key\n",
    "                break\n",
    "        \n",
    "        # check each of my potential values to see if they are consistent with having\n",
    "        # obj.attr = newval\n",
    "        new_values = []\n",
    "        for obj in self.values:\n",
    "            \n",
    "            # if the object doesnt even have this attribute, forget it\n",
    "            if not hasattr(obj, attr):\n",
    "                continue\n",
    "            \n",
    "            # get the object's obj.attr\n",
    "            obj_attr_val =  getattr(obj, attr)\n",
    "            \n",
    "            # if is obj.attr is symbol, how can we make sure it is consistent\n",
    "            # with obj.attr = newval?\n",
    "            # nested symbols\n",
    "            if isinstance(obj_attr_val, Symbol):\n",
    "                \n",
    "                # obj.attr = Symbol ⊃ newval\n",
    "                if newval in obj_attr_val.values:\n",
    "                    obj_attr_val.Collapse(new_value=newval)\n",
    "                    new_values.append(obj)\n",
    "                    continue\n",
    "            else:\n",
    "                # if obj.attr is not symbol, check that obj.attr is consistent with newval\n",
    "                if obj_attr_val == newval:\n",
    "                    new_values.append(obj)\n",
    "                    continue\n",
    "        \n",
    "        # big problem here if true\n",
    "        if len(new_values) == 0:\n",
    "            raise Exception('empty restriction!')\n",
    "            \n",
    "        self.values = new_values\n",
    "        \n",
    "        # if we've restricted to a single value, might as well collapse now.\n",
    "        if len(new_values) == 1:\n",
    "            self.Collapse()\n",
    "            "
   ]
  },
  {
   "cell_type": "markdown",
   "metadata": {},
   "source": [
    "# TODO\n",
    "\n",
    "values = [v1, v2, v3]\n",
    "\n",
    "## Collapse\n",
    "\n",
    "1. person.item collapses.\n",
    "\n",
    "person.item -> Sword\n",
    "\n",
    "person.item = [Sword].\n",
    "\n",
    "\n",
    "2. we need person to be holding a weapon in general. \n",
    "\n",
    "person.item = all subclasses of Item.\n",
    "Weapon is a subclass of Item, so this is consistent:\n",
    "anything we could have done with person.item, we can do after it collapses to\n",
    "Weapon.\n",
    "\n",
    "person.item -> Weapon\n",
    "\n",
    "Weapon is still generic: its subclasses include Sword and Axe.\n",
    "\n",
    "person.item = [Sword, Axe]\n",
    "\n",
    "new_value: Weapon\n",
    "the requirement here for each v1 is that new_values ⊃ v1, where ⊃ is defined\n",
    "for class / subclass relations\n",
    "\n",
    "\n",
    "3. Collapse to a Symbol.\n",
    "\n",
    "we restrict to self.values -> self.values ∩ new_value.values\n",
    "\n",
    "4. Collapse to a list / set / iterable\n",
    "\n",
    "In general, if new_value is array-like, self.values -> self.values ∩ new_value\n",
    "\n",
    "If the new_value contains things not contained by v1 (collapse person.weapon to Item, we remain at person.weapon)\n",
    "we need to ensure we are compatible with original spec of my object.\n",
    "\n",
    "If v1 contains more things than new_value, we need to ensure we are compatible with new_value\n",
    "\n",
    "\n",
    "## Restriction\n",
    "What does it mean for a potential value to be consistent with this attribute value?\n",
    "\n",
    "due to collapse, i know that my self.attr = new_value\n",
    "if v1.attr == new_value, good\n",
    "\n",
    "if v1.attr is the same type as new_value?\n",
    "\n",
    "if type of v1.attr is subclass of type of new_value?"
   ]
  },
  {
   "cell_type": "code",
   "execution_count": 949,
   "metadata": {
    "collapsed": false
   },
   "outputs": [
    {
     "data": {
      "text/plain": [
       "True"
      ]
     },
     "execution_count": 949,
     "metadata": {},
     "output_type": "execute_result"
    }
   ],
   "source": [
    "Apple in Fruit.__subclasses__()"
   ]
  },
  {
   "cell_type": "code",
   "execution_count": null,
   "metadata": {
    "collapsed": true
   },
   "outputs": [],
   "source": []
  },
  {
   "cell_type": "code",
   "execution_count": 904,
   "metadata": {
    "collapsed": true
   },
   "outputs": [],
   "source": [
    "class Symbolic(object):\n",
    "    def __init__(self):\n",
    "        self.symbols = WeakKeyDictionary()\n",
    " \n",
    "    def __get__(self, instance_obj, objtype):\n",
    "#         return self.symbols[instance_obj].Ref()\n",
    "        return self.symbols[instance_obj]\n",
    " \n",
    "    def __set__(self, instance, values):\n",
    "        self.symbols[instance] = Symbol(values)\n",
    " \n",
    "    def __delete__(self, instance):\n",
    "        del self.symbols[instance]\n",
    "\n",
    "        \n",
    "class Fruit(object):\n",
    "    color = Symbolic()\n",
    "    def __init__(self, name):\n",
    "        self.name = name\n",
    "    def method(self):\n",
    "        print('method man')\n",
    "\n",
    "class Apple(Fruit):\n",
    "    def __init__(self):\n",
    "        self.name = 'Apple'\n",
    "        self.color = ['red', 'green']\n",
    "\n",
    "class Pear(Fruit):\n",
    "    def __init__(self):\n",
    "        self.name = 'Pear'\n",
    "        self.color = ['red', 'yellow']\n",
    "\n",
    "        \n",
    "class State(object):\n",
    "    fruit = Symbolic()\n",
    "    def __init__(self):\n",
    "        self.fruit = Fruit"
   ]
  },
  {
   "cell_type": "code",
   "execution_count": 937,
   "metadata": {
    "collapsed": false
   },
   "outputs": [],
   "source": [
    "state = State()"
   ]
  },
  {
   "cell_type": "code",
   "execution_count": 938,
   "metadata": {
    "collapsed": false
   },
   "outputs": [
    {
     "name": "stdout",
     "output_type": "stream",
     "text": [
      "['red', 'green', 'red', 'yellow']\n"
     ]
    }
   ],
   "source": [
    "print(state.fruit.color)"
   ]
  },
  {
   "cell_type": "code",
   "execution_count": 939,
   "metadata": {
    "collapsed": false
   },
   "outputs": [
    {
     "data": {
      "text/plain": [
       "[<__main__.Apple object at 0x104e44f28>, <__main__.Pear object at 0x104e44da0>]"
      ]
     },
     "execution_count": 939,
     "metadata": {},
     "output_type": "execute_result"
    }
   ],
   "source": [
    "state.fruit"
   ]
  },
  {
   "cell_type": "code",
   "execution_count": 940,
   "metadata": {
    "collapsed": false
   },
   "outputs": [
    {
     "data": {
      "text/plain": [
       "['Apple', 'Pear']"
      ]
     },
     "execution_count": 940,
     "metadata": {},
     "output_type": "execute_result"
    }
   ],
   "source": [
    "state.fruit.name"
   ]
  },
  {
   "cell_type": "code",
   "execution_count": 941,
   "metadata": {
    "collapsed": false
   },
   "outputs": [
    {
     "data": {
      "text/plain": [
       "<__main__.Pear at 0x104e44da0>"
      ]
     },
     "execution_count": 941,
     "metadata": {},
     "output_type": "execute_result"
    }
   ],
   "source": [
    "state.fruit.Observe()"
   ]
  },
  {
   "cell_type": "code",
   "execution_count": 942,
   "metadata": {
    "collapsed": false
   },
   "outputs": [
    {
     "data": {
      "text/plain": [
       "Pear"
      ]
     },
     "execution_count": 942,
     "metadata": {},
     "output_type": "execute_result"
    }
   ],
   "source": [
    "state.fruit.name"
   ]
  },
  {
   "cell_type": "code",
   "execution_count": null,
   "metadata": {
    "collapsed": true
   },
   "outputs": [],
   "source": []
  },
  {
   "cell_type": "markdown",
   "metadata": {},
   "source": [
    "# Questions\n",
    "\n",
    "1. how to naturally handle references to symbols\n",
    "\n",
    "    a. what is the use case for symbols? use in text?\n",
    "    \n",
    "2. do nested symbols work?\n",
    "\n",
    "3. type vs. instance in restriction\n",
    "\n",
    "    restrict self.attr to value\n",
    "    if values[1].attr is value, and symbol.values[2].attr is an instance of the same class as value,\n",
    "    then we should allow either?\n",
    "    it should be instead a relation of subclasses\n",
    "\n",
    "4. when recalcing attributes, order matters:\n",
    "    \n",
    "    if i recalculate my attributes before a child symbol, i wont catch all of the child symbol's properties\n",
    "    but do i want to do this? consider\n",
    "\n",
    "```\n",
    "A\n",
    "|\n",
    "|---|\n",
    "B   C\n",
    "   / \\\n",
    "   D  E\n",
    "```\n",
    "\n",
    "A should only expose the the attributes of its immediate values.\n",
    "\n",
    "```\n",
    "A: <B, C>\n",
    "\n",
    "A.a\n",
    "B.b\n",
    "C.c\n",
    "C.d\n",
    "\n",
    "recalc:\n",
    "A.a\n",
    "A.b\n",
    "A.c\n",
    "A.d\n",
    "\n",
    "Nested:\n",
    "A.c.z ? \n",
    "possible or no?\n",
    "only if z is a property of all classes of c (superclass property, etc)\n",
    "\n",
    "```\n",
    "\n",
    "We should be adopting attributes only if they belong to the class -> superclass?\n",
    "some sort of class spec for symbol.values?\n",
    "Restriction is:\n",
    "now that we know the specific value of this property, which of my values are consistent with that?"
   ]
  },
  {
   "cell_type": "code",
   "execution_count": 896,
   "metadata": {
    "collapsed": false
   },
   "outputs": [
    {
     "data": {
      "text/plain": [
       "<__main__.Apple object at 0x104e00e80>"
      ]
     },
     "execution_count": 896,
     "metadata": {},
     "output_type": "execute_result"
    }
   ],
   "source": [
    "state.fruit"
   ]
  },
  {
   "cell_type": "code",
   "execution_count": null,
   "metadata": {
    "collapsed": true
   },
   "outputs": [],
   "source": []
  }
 ],
 "metadata": {
  "kernelspec": {
   "display_name": "Python [conda env:py3]",
   "language": "python",
   "name": "conda-env-py3-py"
  },
  "language_info": {
   "codemirror_mode": {
    "name": "ipython",
    "version": 3
   },
   "file_extension": ".py",
   "mimetype": "text/x-python",
   "name": "python",
   "nbconvert_exporter": "python",
   "pygments_lexer": "ipython3",
   "version": "3.6.2"
  }
 },
 "nbformat": 4,
 "nbformat_minor": 2
}
