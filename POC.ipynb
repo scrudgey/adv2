{
 "cells": [
  {
   "cell_type": "markdown",
   "metadata": {},
   "source": [
    "# Object-oriented context-free grammar\n",
    "\n",
    "Objects exist in superposition\n",
    "When property (object) is referenced, return random from the set and collapse the reference.\n",
    "\n",
    "```\n",
    "Fruit:{\n",
    "    {color}\n",
    "    {pit}\n",
    "}\n",
    "\n",
    "Apple:{\n",
    "    {color}: <Red, Green>\n",
    "    name: 'Apple'\n",
    "}\n",
    "\n",
    "Pear:{\n",
    "    {color}: <Red, Green, Yellow>\n",
    "    name: 'Pear'\n",
    "}\n",
    "```\n",
    "\n",
    "```\n",
    "f = <Fruit>\n",
    "update:\n",
    "    <f> = <Apple, Pear>\n",
    "    <f.color> = Union(f.{color} for f in {f}) = <Red, Green, Yellow>\n",
    "```\n",
    "\n",
    "\n",
    "Now if we reference `Collapse(f)`, it will first check if f is collapsed. if yes, return concrete value. if no, collapse it.\n",
    "\n",
    "Nested referencing: `color = Collapse(f.color)`: \n",
    "We return `color = Collapse(<f.color>)`\n",
    "then, if f is not collapsed, we restrict to f.color ⊃ color\n",
    "\n",
    "```\n",
    "f = <Apple, Pear>\n",
    "\n",
    "Collapse(f.color):\n",
    "f.color = <Red, Green, Yellow>\n",
    "\n",
    "case 1: color = Red\n",
    "    <f>.color = Red\n",
    "    \n",
    "    restrict:\n",
    "    get all parents f, f.Restrict(color=Red)\n",
    "        <f> = <Apple, Pear>\n",
    "        \n",
    "    update:\n",
    "        <f>.color = Red\n",
    "        <f>.name = <'Apple', 'Pear'>\n",
    "\n",
    "case 2: color = Yellow\n",
    "    <f>.color = Yellow\n",
    "    \n",
    "    restrict:\n",
    "    get all parents f, f.Restrict(color=Yellow)\n",
    "        <f> = <Pear>\n",
    "        f = Pear\n",
    "        \n",
    "    update:\n",
    "        <f>.color = Yellow\n",
    "        <f>.name = <'Pear'>\n",
    "```\n",
    "\n",
    "So objects have a notion of parent. anything that is a property of an object has its parent\n",
    "set to be the object.\n",
    "\n",
    "```\n",
    "object.Restrict(property, value):\n",
    "    new_set = set()\n",
    "    for object in set:\n",
    "        if object.property ⊃ value:\n",
    "            new_set.add(object)\n",
    "    set = new_set\n",
    "    for parent, property in parents:\n",
    "        parent.restrict(property, this)\n",
    "```\n"
   ]
  },
  {
   "cell_type": "markdown",
   "metadata": {},
   "source": [
    "# Implementation\n",
    "\n",
    "1. Object with some magic in its constructor\n",
    "2. Normal object, with decorators on its properties"
   ]
  },
  {
   "cell_type": "code",
   "execution_count": 622,
   "metadata": {
    "collapsed": true
   },
   "outputs": [],
   "source": [
    "import random\n",
    "import inspect\n",
    "import traceback\n"
   ]
  },
  {
   "cell_type": "code",
   "execution_count": 875,
   "metadata": {
    "collapsed": false
   },
   "outputs": [],
   "source": [
    "class Symbol(object):\n",
    "    def __init__(self, values):\n",
    "        self.InitVals(values)\n",
    "        \n",
    "    def InitVals(self, values):\n",
    "        # TODO: what if value is singleton\n",
    "        if inspect.isclass(values):\n",
    "            self.values = []\n",
    "            for subclass in values.__subclasses__():\n",
    "                print(subclass)\n",
    "                x = subclass()\n",
    "                self.values.append(x)\n",
    "                for key in x.__dict__:\n",
    "                    print(key)\n",
    "                for t in subclass.mro():\n",
    "                    for key in t.__dict__:\n",
    "                        if key[:2] != '__':\n",
    "                            print(key)\n",
    "#                     print(t.__dict__)\n",
    "        else:\n",
    "            self.values = values\n",
    "#             print(values)\n",
    "        self.value = None\n",
    "        \n",
    "    def Ref(self, instance=None, prop_name=None):\n",
    "        if self.value:\n",
    "            return self.value\n",
    "        else:\n",
    "            if prop_name is not None:\n",
    "                print(prop_name + ' collapsing')\n",
    "                print(instance)\n",
    "                stack = traceback.extract_stack()\n",
    "                lines = traceback.format_list(stack)\n",
    "                for line, stick in zip(lines, stack):\n",
    "                    if prop_name in line:\n",
    "                        refs = line.split('\\n')[-2].strip().split('.')\n",
    "                if prop_name is not refs[-1]:\n",
    "                    return self\n",
    "            return self.Collapse()\n",
    "        \n",
    "    def Collapse(self):\n",
    "        if self.value:\n",
    "            return self.value\n",
    "        self.value = random.choice(self.values)\n",
    "        return self.value\n",
    "    \n",
    "    def Update(self):\n",
    "        pass\n",
    "\n",
    "class Symbolic(object):      \n",
    "    def __init__(self):\n",
    "        self.symbols = WeakKeyDictionary()\n",
    "        \n",
    "    def __get__(self, instance_obj, objtype):\n",
    "        if instance_obj == None:\n",
    "            return self\n",
    "        prop_name = None\n",
    "        for t in objtype.mro():\n",
    "            for key, val in t.__dict__.items():\n",
    "                if id(val) == id(self):\n",
    "                    prop_name = key\n",
    "        return self.symbols[instance_obj].Ref(instance=instance_obj, prop_name=prop_name)\n",
    "    \n",
    "    def __set__(self, instance, val):\n",
    "        s = Symbol(val)\n",
    "        s.symbolic = self\n",
    "        self.symbols[instance] = s\n",
    "        \n",
    "    def __delete__(self, instance):\n",
    "        del self.age[instance]\n",
    "\n",
    "class Fruit(object):\n",
    "    color = Symbolic()\n",
    "    def __init__(self, name):\n",
    "        self.name = name\n",
    "\n",
    "class Apple(Fruit):\n",
    "    def __init__(self):\n",
    "        self.name = 'Apple'\n",
    "        self.color = ['red', 'green']\n",
    "        \n",
    "class Pear(Fruit):\n",
    "    def __init__(self):\n",
    "        self.name = 'Pear'\n",
    "        self.color = ['red', 'yellow']\n",
    "\n",
    "        \n",
    "        \n",
    "class State(object):\n",
    "    fruit = Symbolic()\n",
    "    def __init__(self):\n",
    "        self.fruit = Fruit"
   ]
  },
  {
   "cell_type": "code",
   "execution_count": 876,
   "metadata": {
    "collapsed": false
   },
   "outputs": [
    {
     "name": "stdout",
     "output_type": "stream",
     "text": [
      "<class '__main__.Apple'>\n",
      "name\n",
      "color\n",
      "<class '__main__.Pear'>\n",
      "name\n",
      "color\n"
     ]
    }
   ],
   "source": [
    "state = State()"
   ]
  },
  {
   "cell_type": "code",
   "execution_count": 823,
   "metadata": {
    "collapsed": false,
    "scrolled": true
   },
   "outputs": [
    {
     "name": "stdout",
     "output_type": "stream",
     "text": [
      "fruit collapsing\n",
      "<__main__.State object at 0x104dd17b8>\n"
     ]
    },
    {
     "ename": "AttributeError",
     "evalue": "'Symbol' object has no attribute 'color'",
     "output_type": "error",
     "traceback": [
      "\u001b[0;31m---------------------------------------------------------------------------\u001b[0m",
      "\u001b[0;31mAttributeError\u001b[0m                            Traceback (most recent call last)",
      "\u001b[0;32m<ipython-input-823-bfd8f3c81c90>\u001b[0m in \u001b[0;36m<module>\u001b[0;34m()\u001b[0m\n\u001b[0;32m----> 1\u001b[0;31m \u001b[0mstate\u001b[0m\u001b[0;34m.\u001b[0m\u001b[0mfruit\u001b[0m\u001b[0;34m.\u001b[0m\u001b[0mcolor\u001b[0m\u001b[0;34m\u001b[0m\u001b[0m\n\u001b[0m",
      "\u001b[0;31mAttributeError\u001b[0m: 'Symbol' object has no attribute 'color'"
     ]
    }
   ],
   "source": [
    "state.fruit.color"
   ]
  },
  {
   "cell_type": "markdown",
   "metadata": {},
   "source": [
    "1. collapse sub attribute but not main\n",
    "3. be able to pass references without collapse\n",
    "4. inspect symbol values / etc without collapse"
   ]
  },
  {
   "cell_type": "code",
   "execution_count": 811,
   "metadata": {
    "collapsed": false
   },
   "outputs": [
    {
     "data": {
      "text/plain": [
       "[<__main__.Apple at 0x104dc0748>, <__main__.Pear at 0x104dc0240>]"
      ]
     },
     "execution_count": 811,
     "metadata": {},
     "output_type": "execute_result"
    }
   ],
   "source": [
    "list(State.fruit.symbols.values())[0].values"
   ]
  },
  {
   "cell_type": "markdown",
   "metadata": {},
   "source": [
    "Add to symbol's dictionary to build out its values"
   ]
  },
  {
   "cell_type": "code",
   "execution_count": null,
   "metadata": {
    "collapsed": true
   },
   "outputs": [],
   "source": []
  }
 ],
 "metadata": {
  "anaconda-cloud": {},
  "kernelspec": {
   "display_name": "Python [conda env:py3]",
   "language": "python",
   "name": "conda-env-py3-py"
  },
  "language_info": {
   "codemirror_mode": {
    "name": "ipython",
    "version": 3
   },
   "file_extension": ".py",
   "mimetype": "text/x-python",
   "name": "python",
   "nbconvert_exporter": "python",
   "pygments_lexer": "ipython3",
   "version": "3.6.2"
  }
 },
 "nbformat": 4,
 "nbformat_minor": 1
}
