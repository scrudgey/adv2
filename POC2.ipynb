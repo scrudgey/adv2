{
 "cells": [
  {
   "cell_type": "code",
   "execution_count": 1,
   "metadata": {
    "collapsed": true
   },
   "outputs": [],
   "source": [
    "import inspect\n",
    "import random\n",
    "from weakref import WeakKeyDictionary"
   ]
  },
  {
   "cell_type": "code",
   "execution_count": 2,
   "metadata": {
    "collapsed": false
   },
   "outputs": [
    {
     "data": {
      "text/html": [
       "<style>.container { width:98% !important; }</style>"
      ],
      "text/plain": [
       "<IPython.core.display.HTML object>"
      ]
     },
     "metadata": {},
     "output_type": "display_data"
    }
   ],
   "source": [
    "from IPython.core.display import display, HTML\n",
    "display(HTML(\"<style>.container { width:98% !important; }</style>\"))"
   ]
  },
  {
   "cell_type": "code",
   "execution_count": 3,
   "metadata": {
    "collapsed": true
   },
   "outputs": [],
   "source": [
    "PRIMITIVE_TYPES = [str, int]       "
   ]
  },
  {
   "cell_type": "code",
   "execution_count": 4,
   "metadata": {
    "collapsed": true
   },
   "outputs": [],
   "source": [
    "class Symbolic(object):\n",
    "    def __init__(self):\n",
    "        self.symbols = WeakKeyDictionary()\n",
    " \n",
    "    def __get__(self, instance_obj, objtype):\n",
    "        return self.symbols[instance_obj]\n",
    " \n",
    "    def __set__(self, instance, values):\n",
    "        self.symbols[instance] = Symbol(values)\n",
    " \n",
    "    def __delete__(self, instance):\n",
    "        del self.symbols[instance]"
   ]
  },
  {
   "cell_type": "code",
   "execution_count": 34,
   "metadata": {
    "collapsed": false
   },
   "outputs": [],
   "source": [
    "class Symbol(object):\n",
    "    def __init__(self, values):\n",
    "        self.parent = None\n",
    "        self.InitVals(values)\n",
    "        \n",
    "    def InitVals(self, values):\n",
    "        if inspect.isclass(values):\n",
    "            self.values = []\n",
    "            for subclass in values.__subclasses__():\n",
    "                self.values.append(subclass())\n",
    "        else:\n",
    "            self.values = values\n",
    "        self._value = None\n",
    "        self.CalcAttributes()\n",
    "        \n",
    "    def __repr__(self):\n",
    "        return str(self.val)\n",
    "    \n",
    "    def __getattr__(self, attr):\n",
    "        # allow self.val to inspect without collapsing my value\n",
    "        if attr == 'val':\n",
    "            if self._value:\n",
    "                return self._value\n",
    "            else:\n",
    "                if len(self.values) == 1:\n",
    "                    return self.values[0]\n",
    "                else:\n",
    "                    return self.values\n",
    "        raise AttributeError(\"{} object has no attribute {}\".format(self.__class__, attr))\n",
    "    \n",
    "    def CalcAttributes(self):\n",
    "        attribute_values = {}\n",
    "        for obj in self.values:\n",
    "            if type(obj) in PRIMITIVE_TYPES:\n",
    "                continue\n",
    "            attributes = dir(obj)\n",
    "            filters = [lambda x: x[0] != '_', lambda x: not callable(getattr(obj, x)), lambda x: x not in PRIMITIVE_TYPES]\n",
    "            for fn in filters:\n",
    "                attributes = list(filter(fn, attributes))\n",
    "            for attribute in attributes:\n",
    "                if attribute not in attribute_values:\n",
    "                    attribute_values[attribute] = []\n",
    "                val = obj.__getattribute__(attribute)\n",
    "                if isinstance(val, Symbol):\n",
    "                    if type(val.values) is list:\n",
    "                        attribute_values[attribute].extend(val.values)\n",
    "                    else:\n",
    "                        attribute_values[attribute].append(val.values)\n",
    "                else:\n",
    "                    attribute_values[attribute].append(val)\n",
    "        for key, vals in attribute_values.items():\n",
    "                symbol = Symbol(vals)\n",
    "                symbol.parent = self\n",
    "                setattr(self, key, symbol)\n",
    "    \n",
    "    def Observe(self):\n",
    "        if self._value:\n",
    "            return self._value\n",
    "        else:\n",
    "            return self.Collapse(None)\n",
    "    \n",
    "    def Collapse(self, symbol, upwards=True):\n",
    "        if symbol is None:\n",
    "            self._value = random.choice(self.values)\n",
    "            self.values = [self._value]\n",
    "            if upwards:\n",
    "                if self.parent is not None:\n",
    "                    self.parent.Collapse(self.parent, upwards=True)\n",
    "            return self._value\n",
    "        \n",
    "        new_values = subset(self, symbol)\n",
    "        \n",
    "        if type(new_values) is list: \n",
    "            if len(new_values) == 0:\n",
    "                raise Exception('empty symbol')\n",
    "            self.values = new_values\n",
    "        else:\n",
    "            self.values = [new_values]\n",
    "        \n",
    "        # recursively apply to all shared symbolic attributes\n",
    "        new_values = []\n",
    "        filters = [\n",
    "            lambda key, value: key[0] != '_',\n",
    "            lambda key, value: not callable(value),\n",
    "            lambda key, value: key != 'parent' and key != 'values'\n",
    "        ]\n",
    "        symbol_attributes = {i: symbol.__getattribute__(i) for i in dir(symbol)}\n",
    "        for fn in filters:\n",
    "            symbol_attributes = {k: v for k, v in symbol_attributes.items() if fn(k, v)}\n",
    "        print(symbol_attributes)\n",
    "        print()\n",
    "        for value in self.values:\n",
    "            attribues_match = True\n",
    "            \n",
    "            value_attributes = {i: value.__getattribute__(i) for i in dir(value)}\n",
    "            for fn in filters:\n",
    "                value_attributes = {k: v for k, v in value_attributes.items() if fn(k, v)}\n",
    "                \n",
    "            print(value_attributes)\n",
    "            print()\n",
    "            for attribute in value_attributes.keys():\n",
    "                if not attribues_match:\n",
    "                    continue\n",
    "                if attribute in symbol_attributes:\n",
    "                    symbol_attribute = symbol_attributes[attribute]\n",
    "                    value_attribute = value_attributes[attribute]\n",
    "                    value_attribute = subset(value_attribute, symbol_attribute)\n",
    "                    if value_attribute is None:\n",
    "                        attribues_match = False\n",
    "                    else:\n",
    "                        setattr(value, attribute, value_attribute)\n",
    "                else:\n",
    "                    pass\n",
    "                    # adopt missing target values to ensure consistency\n",
    "            if attribues_match:\n",
    "                new_values.append(value)\n",
    "        self.values = new_values\n",
    "\n",
    "        self.CalcAttributes()\n",
    "        if upwards:\n",
    "            if self.parent is not None:\n",
    "                self.parent.Collapse(self.parent, upwards=True)\n",
    "        return self\n",
    "                 \n",
    "\n",
    "def subset(value, target, depth=0):\n",
    "    '''Return the subset of value that spans target. If no\n",
    "    such subset exists, return None\n",
    "    '''\n",
    "#     print('\\t'*depth, 'subset: {}, {}'.format(value, target))\n",
    "    is_subset = False\n",
    "    if type(value) is Symbol:\n",
    "        return subset(value.values, target, depth=depth+1)\n",
    "    if type(value) is list:\n",
    "        results = []\n",
    "        for element in value:\n",
    "            results.append(subset(element, target, depth=depth+1))\n",
    "        results = [result for result in results if result is not None]\n",
    "        if len(results) == 0:\n",
    "            return None\n",
    "        if len(results) == 1:\n",
    "            return results[0]\n",
    "        return results\n",
    "        \n",
    "    if type(target) is Symbol:\n",
    "        return subset(value, target.values, depth=depth+1)\n",
    "    if type(target) is list:\n",
    "        for element in target:\n",
    "            result = subset(value, element, depth=depth+1)\n",
    "            if result is not None:\n",
    "                return result\n",
    "        return None\n",
    "        \n",
    "    if value == target:\n",
    "        is_subset = True\n",
    "    if type(value) not in PRIMITIVE_TYPES:\n",
    "        if type(value) == type(target):\n",
    "            is_subset = True\n",
    "        if type(target) in type(value).__subclasses__():\n",
    "            # TODO: (subclass)Value promotion\n",
    "            # just take all attributes and methods\n",
    "            is_subset = True\n",
    "#     print('\\t'*depth, is_subset)\n",
    "    if not is_subset:\n",
    "        return None\n",
    "    \n",
    "    return value"
   ]
  },
  {
   "cell_type": "markdown",
   "metadata": {},
   "source": [
    "# Basic Functionality"
   ]
  },
  {
   "cell_type": "code",
   "execution_count": 35,
   "metadata": {
    "collapsed": false
   },
   "outputs": [],
   "source": [
    "class Fruit(object):\n",
    "    color = Symbolic()\n",
    "    def __init__(self, name):\n",
    "        self.name = name\n",
    "    def method(self):\n",
    "        print('method man')\n",
    "\n",
    "class Apple(Fruit):\n",
    "    def __init__(self):\n",
    "        self.name = 'Apple'\n",
    "        self.color = ['red', 'green']\n",
    "\n",
    "class Pear(Fruit):\n",
    "    def __init__(self):\n",
    "        self.name = 'Pear'\n",
    "        self.color = ['red', 'yellow']\n",
    "\n",
    "        \n",
    "class State(object):\n",
    "    fruit = Symbolic()\n",
    "    def __init__(self):\n",
    "        self.fruit = Fruit"
   ]
  },
  {
   "cell_type": "code",
   "execution_count": 36,
   "metadata": {
    "collapsed": false,
    "scrolled": false
   },
   "outputs": [
    {
     "name": "stdout",
     "output_type": "stream",
     "text": [
      "[<__main__.Apple object at 0x1061b2dd8>, <__main__.Pear object at 0x1061b2518>]\n"
     ]
    }
   ],
   "source": [
    "state = State()\n",
    "\n",
    "print(state.fruit)"
   ]
  },
  {
   "cell_type": "code",
   "execution_count": 37,
   "metadata": {
    "collapsed": false
   },
   "outputs": [
    {
     "name": "stdout",
     "output_type": "stream",
     "text": [
      "['red', 'green', 'red', 'yellow']\n"
     ]
    }
   ],
   "source": [
    "print(state.fruit.color)"
   ]
  },
  {
   "cell_type": "code",
   "execution_count": 38,
   "metadata": {
    "collapsed": false
   },
   "outputs": [
    {
     "name": "stdout",
     "output_type": "stream",
     "text": [
      "{'color': yellow, 'name': ['Apple', 'Pear']}\n",
      "\n",
      "{'color': ['red', 'green'], 'name': 'Apple'}\n",
      "\n",
      "{'color': ['red', 'yellow'], 'name': 'Pear'}\n",
      "\n",
      "yellow\n"
     ]
    }
   ],
   "source": [
    "print(state.fruit.color.Observe())"
   ]
  },
  {
   "cell_type": "code",
   "execution_count": 39,
   "metadata": {
    "collapsed": false
   },
   "outputs": [
    {
     "name": "stdout",
     "output_type": "stream",
     "text": [
      "Pear\n"
     ]
    }
   ],
   "source": [
    "print(state.fruit.name)"
   ]
  },
  {
   "cell_type": "code",
   "execution_count": 40,
   "metadata": {
    "collapsed": false
   },
   "outputs": [
    {
     "name": "stdout",
     "output_type": "stream",
     "text": [
      "{'color': yellow, 'name': Pear}\n",
      "\n",
      "{'color': yellow, 'name': 'Pear'}\n",
      "\n",
      "Pear\n"
     ]
    }
   ],
   "source": [
    "print(state.fruit.name.Observe())"
   ]
  },
  {
   "cell_type": "code",
   "execution_count": 41,
   "metadata": {
    "collapsed": false
   },
   "outputs": [
    {
     "name": "stdout",
     "output_type": "stream",
     "text": [
      "<__main__.Pear object at 0x1061b2518>\n"
     ]
    }
   ],
   "source": [
    "print(state.fruit)"
   ]
  },
  {
   "cell_type": "code",
   "execution_count": 42,
   "metadata": {
    "collapsed": false
   },
   "outputs": [
    {
     "name": "stdout",
     "output_type": "stream",
     "text": [
      "Pear\n",
      "yellow\n"
     ]
    }
   ],
   "source": [
    "print(state.fruit.name)\n",
    "print(state.fruit.color)"
   ]
  },
  {
   "cell_type": "code",
   "execution_count": null,
   "metadata": {
    "collapsed": true
   },
   "outputs": [],
   "source": []
  },
  {
   "cell_type": "markdown",
   "metadata": {},
   "source": [
    "# First attempt: Simple Collapse\n",
    "\n",
    "Object is considered a subset of another if it is the same type or a subclass of the other's type. \n",
    "\n",
    "### Collapse\n",
    "    1. restrict my values to the minimal subset of target values\n",
    "        if I am None, return None\n",
    "    2. for each of my values, for each of shared attributes \n",
    "        restrict(value.attr, target.attr)\n",
    "        if they return None, I return None\n",
    "    2.5. recalculate my attributes\n",
    "    3. adopt all other attributes of the target values\n",
    "    4. if i am the first, collapse upward\n",
    "    \n",
    "### Collapse upward\n",
    "    2. for each of my values, if they have attribute\n",
    "        restrict value attributes to the target attributes.\n",
    "        if they return None, drop this value\n",
    "    if i have lost all of my values, throw exception\n",
    "    if i have a parent, collapse upwards\n",
    "        \n",
    "### Restriction\n",
    "    for every element in me, keep if i am a superset of every element in target.\n",
    "        this ensures that we can take any possible instance of the target and find its \n",
    "        realization in original values\n",
    "        \n",
    "### Subset\n",
    "    I am a subset of the target value if I am the same class or a subclass.\n",
    "    \n",
    "\n",
    "\n",
    "### Consistency condition\n",
    "    new value must always be a strict subset of the existing values:\n",
    "    1. New value implements every attribute of the parent object, at least potentially\n",
    "    2. New value implements every method of the parent object\n",
    "    3. "
   ]
  },
  {
   "cell_type": "markdown",
   "metadata": {},
   "source": [
    "make symbols subscriptable"
   ]
  },
  {
   "cell_type": "code",
   "execution_count": 6,
   "metadata": {
    "collapsed": false
   },
   "outputs": [
    {
     "data": {
      "text/plain": [
       "{1, 2}"
      ]
     },
     "execution_count": 6,
     "metadata": {},
     "output_type": "execute_result"
    }
   ],
   "source": [
    "set([1]) | set([2])"
   ]
  },
  {
   "cell_type": "code",
   "execution_count": null,
   "metadata": {
    "collapsed": true
   },
   "outputs": [],
   "source": []
  }
 ],
 "metadata": {
  "anaconda-cloud": {},
  "kernelspec": {
   "display_name": "Python [conda env:py3]",
   "language": "python",
   "name": "conda-env-py3-py"
  },
  "language_info": {
   "codemirror_mode": {
    "name": "ipython",
    "version": 3
   },
   "file_extension": ".py",
   "mimetype": "text/x-python",
   "name": "python",
   "nbconvert_exporter": "python",
   "pygments_lexer": "ipython3",
   "version": "3.6.2"
  }
 },
 "nbformat": 4,
 "nbformat_minor": 2
}
