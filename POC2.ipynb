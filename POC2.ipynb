{
 "cells": [
  {
   "cell_type": "code",
   "execution_count": 1,
   "metadata": {},
   "outputs": [],
   "source": [
    "import inspect\n",
    "import random\n",
    "from weakref import WeakKeyDictionary"
   ]
  },
  {
   "cell_type": "code",
   "execution_count": null,
   "metadata": {},
   "outputs": [],
   "source": [
    "class Symbol(object):\n",
    "    def __init__(self, values):\n",
    "        self.parent = None\n",
    "        self.InitVals(values)\n",
    "        \n",
    "    def InitVals(self, values):\n",
    "        if inspect.isclass(values):\n",
    "            self.values = []\n",
    "            for subclass in values.__subclasses__():\n",
    "                self.values.append(subclass())\n",
    "        else:\n",
    "            self.values = values\n",
    "        self._value = None\n",
    "        self.CalcAttributes()\n",
    "        \n",
    "    def __repr__(self):\n",
    "        return str(self.val)\n",
    "    \n",
    "    def __getattr__(self, attr):\n",
    "        if attr == 'val':\n",
    "            if self._value:\n",
    "                return self._value\n",
    "            else:\n",
    "                if len(self.values) == 1:\n",
    "                    return self.values[0]\n",
    "                else:\n",
    "                    return self.values\n",
    "        raise AttributeError(\"{} object has no attribute {}\".format(self.__class__, attr))\n",
    "    \n",
    "    def CalcAttributes(self):\n",
    "        attribute_values = {}\n",
    "        for obj in self.values:\n",
    "            attributes = [i for i in dir(obj) if i[0] != '_' and not callable(getattr(obj, i))]\n",
    "            for attribute in attributes:\n",
    "                if attribute not in attribute_values:\n",
    "                    attribute_values[attribute] = []\n",
    "                val = obj.__getattribute__(attribute)\n",
    "                if isinstance(val, Symbol):\n",
    "                    attribute_values[attribute].extend(val.values)\n",
    "                else:\n",
    "                    attribute_values[attribute].append(val)\n",
    "        for key, vals in attribute_values.items():\n",
    "                symbol = Symbol(vals)\n",
    "                symbol.parent = self\n",
    "                setattr(self, key, symbol)\n",
    "    \n",
    "    def Observe(self):\n",
    "        if self._value:\n",
    "            return self._value\n",
    "    \n",
    "    def Collapse(self, symbol):\n",
    "        pass\n",
    "    \n",
    "    def Restrict(self, symbol):\n",
    "        pass"
   ]
  }
 ],
 "metadata": {
  "kernelspec": {
   "display_name": "Python [conda env:anaconda3]",
   "language": "python",
   "name": "conda-env-anaconda3-py"
  },
  "language_info": {
   "codemirror_mode": {
    "name": "ipython",
    "version": 3
   },
   "file_extension": ".py",
   "mimetype": "text/x-python",
   "name": "python",
   "nbconvert_exporter": "python",
   "pygments_lexer": "ipython3",
   "version": "3.6.5"
  }
 },
 "nbformat": 4,
 "nbformat_minor": 2
}
